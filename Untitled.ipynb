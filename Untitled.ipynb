{
 "cells": [
  {
   "cell_type": "markdown",
   "id": "49b4a3da",
   "metadata": {},
   "source": [
    "This is a notebook for the final project"
   ]
  },
  {
   "cell_type": "code",
   "execution_count": null,
   "id": "630f4e3e",
   "metadata": {},
   "outputs": [],
   "source": []
  }
 ],
 "metadata": {
  "kernelspec": {
   "display_name": "Python 3 (ipykernel)",
   "language": "python",
   "name": "python3"
  },
  "language_info": {
   "codemirror_mode": {
    "name": "ipython",
    "version": 3
   },
   "file_extension": ".py",
   "mimetype": "text/x-python",
   "name": "python",
   "nbconvert_exporter": "python",
   "pygments_lexer": "ipython3",
   "version": "3.10.11"
  }
 },
 "nbformat": 4,
 "nbformat_minor": 5
}
