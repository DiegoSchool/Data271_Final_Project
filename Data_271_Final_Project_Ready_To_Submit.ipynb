{
 "cells": [
  {
   "cell_type": "markdown",
   "metadata": {},
   "source": [
    "Benjamin Lab\n",
    "\n",
    "Diego Garcia\n",
    "\n",
    "[GitHub](https://github.com/DiegoSchool/Data271_Final_Project)"
   ]
  },
  {
   "cell_type": "markdown",
   "metadata": {},
   "source": [
    " ## Introduction\n",
    "\n",
    "In this exploratory data analysis we are examining the effect that different environmental conditions can have on the outcome of an MLB game. Some of the conditions we are looking at include elevation, temperature, wind speed, whether a game was played during the day or night, and the amount of precipitation that occured during the game. All games are from the 2024 MLB regular and post season games. We are going to attempt to answer questions like do players gain any kind of advantage depending on the stadium they play in? (https://www.youtube.com/watch?v=RaU2gpozGZs)\n",
    "\n",
    "We have collected a few sets of data, one containing the elevation measurements for each stadium where an MLB game was played during the 2024 season and we will examine the difference in total runs scored in each game and see how they compare across different stadiums. One reason we are focusing on altitude is that there is a shared theory among player, coaches, and baseball fans alike that games played in higher altitudes like Denver, Colorado baseballs hit off the bat are able to travel farther due to the thinner, less dense air observed from higher elevations. (https://www.cbsnews.com/colorado/news/altitude-baseball-coors-field-denver-impact-thin-air/)\n",
    "\n",
    "Another set of data that we collected has results from each individual game for the 2024 season. This dataset will provide us with the measurements that we will compare with different stadium elevations to see if there are any trends for specific locations. This dataset also includes information on weather conditions for each game during the 2024 MLB season.\n",
    "\n",
    "By combining elevation data with game-specific statistics and weather conditions, we can isolate and analyze patterns that may be influenced by atmospheric variables. For example, by comparing games played at high-elevation stadiums like Coors Field in Denver with those at sea level, we can examine differences in home run rates, total runs scored, and pitching performance. Incorporating weather data such as temperature, humidity, and wind speed allows us to assess whether certain environmental conditions correlate with game outcomes or favor specific teams. This integrated approach enables us to better understand the role of elevation and weather in shaping competitive dynamics and player performance.\n",
    "\n",
    "This topic is very special to myself in particular because I have always had a passion for sports since I was very young and topics like these are the main motivation for me to get into the field of data science. Once I was aware of this growing industry of data analytics being used in sports I thought it would be a perfect blend of my love for sports and my interest in numbers and statistics.\n",
    "\n",
    "This analysis provides valuable insights by pinpointing the environmental factors such as elevation and weather that could significantly influence game outcomes. For consumers like team strategists, sports analysts, bettors, and even fans, understanding these influences can inform strategy and training. Teams can adjust training and in-game strategies based on how players perform under specific conditions, optimizing roster decisions and game plans. This information could also enhance game predictions. Analysts and bettors can incorporate these environmental variables into predictive models, leading to more accurate forecasts of game outcomes."
   ]
  },
  {
   "cell_type": "markdown",
   "metadata": {
    "id": "jZie7KKEfMUc"
   },
   "source": [
    "## Libraries Required\n",
    "\n",
    "- **Pandas** will be necessary for cleaning and analyzing data more easily\n",
    "\n",
    "- **Numpy** will be used to perform artimetic on the data.\n",
    "\n",
    "- **Matplotlib, Seaborn & Plotly.Express** will be used to vizualize interesting patterns in the data\n",
    "\n",
    "- **Regex** will be used to convert different values for dates and time to the same pattern in order to join datasets\n",
    "\n",
    "- **Requests** will be used to pull data from an elevation API\n",
    "\n",
    "- **BeautifulSoup & Json** will be used to take html text objects from webscraping and convert them into more managable pandas dataframes"
   ]
  },
  {
   "cell_type": "code",
   "execution_count": 89,
   "metadata": {
    "id": "0HaK8idmUjDr"
   },
   "outputs": [],
   "source": [
    "import pandas as pd\n",
    "import numpy as np\n",
    "import matplotlib.pyplot as plt\n",
    "import seaborn as sns\n",
    "import plotly.express as px\n",
    "import re\n",
    "import requests\n",
    "from bs4 import BeautifulSoup\n",
    "from pandas import json_normalize\n",
    "import json"
   ]
  },
  {
   "cell_type": "markdown",
   "metadata": {},
   "source": [
    "## Data Preparation"
   ]
  },
  {
   "cell_type": "markdown",
   "metadata": {},
   "source": [
    "[Source](https://www.kaggle.com/datasets/garethflandro/major-league-baseball-games-2024)\n",
    "\n",
    "This dataset includes stats for each MLB game during the year 2024. I can't find a date\n",
    "when it was uploaded to kaggle but it has to have been after the completion of\n",
    "the 2024 mlb season which was in october"
   ]
  },
  {
   "cell_type": "code",
   "execution_count": 90,
   "metadata": {
    "colab": {
     "base_uri": "https://localhost:8080/"
    },
    "id": "oGIOBXAKViwb",
    "outputId": "f10a144a-379c-4f28-ef71-6293addc5bb9"
   },
   "outputs": [
    {
     "data": {
      "text/plain": [
       "(10616, 162)"
      ]
     },
     "execution_count": 90,
     "metadata": {},
     "output_type": "execute_result"
    }
   ],
   "source": [
    "mlb = pd.read_csv('Data/MLB2020-2024GameInfo.csv')\n",
    "mlb.shape"
   ]
  },
  {
   "cell_type": "markdown",
   "metadata": {},
   "source": [
    "Here I want to look more closely at the columns in this dataset and see which ones will be of best use for us in our analysis"
   ]
  },
  {
   "cell_type": "code",
   "execution_count": 91,
   "metadata": {
    "colab": {
     "base_uri": "https://localhost:8080/",
     "height": 392
    },
    "id": "AqwGgaZbVqR5",
    "outputId": "2032378a-b023-4cf3-c1ca-e3bb1d9657eb"
   },
   "outputs": [
    {
     "data": {
      "text/html": [
       "<div>\n",
       "<style scoped>\n",
       "    .dataframe tbody tr th:only-of-type {\n",
       "        vertical-align: middle;\n",
       "    }\n",
       "\n",
       "    .dataframe tbody tr th {\n",
       "        vertical-align: top;\n",
       "    }\n",
       "\n",
       "    .dataframe thead th {\n",
       "        text-align: right;\n",
       "    }\n",
       "</style>\n",
       "<table border=\"1\" class=\"dataframe\">\n",
       "  <thead>\n",
       "    <tr style=\"text-align: right;\">\n",
       "      <th></th>\n",
       "      <th>Date</th>\n",
       "      <th>Game Number</th>\n",
       "      <th>Day of Week</th>\n",
       "      <th>VT</th>\n",
       "      <th>VT League</th>\n",
       "      <th>VT Game Number</th>\n",
       "      <th>HT</th>\n",
       "      <th>HT League</th>\n",
       "      <th>HT Game Number</th>\n",
       "      <th>VT Score</th>\n",
       "      <th>...</th>\n",
       "      <th>HT Starting Player 7 Name</th>\n",
       "      <th>HT Starting Player 7 Defensive Position</th>\n",
       "      <th>HT Starting Player 8 ID</th>\n",
       "      <th>HT Starting Player 8 Name</th>\n",
       "      <th>HT Starting Player 8 Defensive Position</th>\n",
       "      <th>HT Starting Player 9 ID</th>\n",
       "      <th>HT Starting Player 9 Name</th>\n",
       "      <th>HT Starting Player 9 Defensive Position</th>\n",
       "      <th>Game Notes</th>\n",
       "      <th>Complete Record</th>\n",
       "    </tr>\n",
       "  </thead>\n",
       "  <tbody>\n",
       "    <tr>\n",
       "      <th>0</th>\n",
       "      <td>20240320</td>\n",
       "      <td>0</td>\n",
       "      <td>Wed</td>\n",
       "      <td>LAN</td>\n",
       "      <td>NL</td>\n",
       "      <td>1</td>\n",
       "      <td>SDN</td>\n",
       "      <td>NL</td>\n",
       "      <td>1</td>\n",
       "      <td>5</td>\n",
       "      <td>...</td>\n",
       "      <td>Luis Campusano</td>\n",
       "      <td>2</td>\n",
       "      <td>wadet002</td>\n",
       "      <td>Tyler Wade</td>\n",
       "      <td>5</td>\n",
       "      <td>merrj002</td>\n",
       "      <td>Jackson Merrill</td>\n",
       "      <td>8</td>\n",
       "      <td>NaN</td>\n",
       "      <td>Y</td>\n",
       "    </tr>\n",
       "    <tr>\n",
       "      <th>1</th>\n",
       "      <td>20240321</td>\n",
       "      <td>0</td>\n",
       "      <td>Thu</td>\n",
       "      <td>SDN</td>\n",
       "      <td>NL</td>\n",
       "      <td>2</td>\n",
       "      <td>LAN</td>\n",
       "      <td>NL</td>\n",
       "      <td>2</td>\n",
       "      <td>15</td>\n",
       "      <td>...</td>\n",
       "      <td>James Outman</td>\n",
       "      <td>8</td>\n",
       "      <td>heywj001</td>\n",
       "      <td>Jason Heyward</td>\n",
       "      <td>9</td>\n",
       "      <td>lux-g001</td>\n",
       "      <td>Gavin Lux</td>\n",
       "      <td>4</td>\n",
       "      <td>NaN</td>\n",
       "      <td>Y</td>\n",
       "    </tr>\n",
       "    <tr>\n",
       "      <th>2</th>\n",
       "      <td>20240328</td>\n",
       "      <td>0</td>\n",
       "      <td>Thu</td>\n",
       "      <td>COL</td>\n",
       "      <td>NL</td>\n",
       "      <td>1</td>\n",
       "      <td>ARI</td>\n",
       "      <td>NL</td>\n",
       "      <td>1</td>\n",
       "      <td>1</td>\n",
       "      <td>...</td>\n",
       "      <td>Blaze Alexander</td>\n",
       "      <td>10</td>\n",
       "      <td>thoma004</td>\n",
       "      <td>Alek Thomas</td>\n",
       "      <td>8</td>\n",
       "      <td>perdg001</td>\n",
       "      <td>Gerardo Perdomo</td>\n",
       "      <td>6</td>\n",
       "      <td>NaN</td>\n",
       "      <td>Y</td>\n",
       "    </tr>\n",
       "    <tr>\n",
       "      <th>3</th>\n",
       "      <td>20240328</td>\n",
       "      <td>0</td>\n",
       "      <td>Thu</td>\n",
       "      <td>WAS</td>\n",
       "      <td>NL</td>\n",
       "      <td>1</td>\n",
       "      <td>CIN</td>\n",
       "      <td>NL</td>\n",
       "      <td>1</td>\n",
       "      <td>2</td>\n",
       "      <td>...</td>\n",
       "      <td>Spencer Steer</td>\n",
       "      <td>7</td>\n",
       "      <td>martn003</td>\n",
       "      <td>Nick Martini</td>\n",
       "      <td>10</td>\n",
       "      <td>stept001</td>\n",
       "      <td>Tyler Stephenson</td>\n",
       "      <td>2</td>\n",
       "      <td>NaN</td>\n",
       "      <td>Y</td>\n",
       "    </tr>\n",
       "    <tr>\n",
       "      <th>4</th>\n",
       "      <td>20240328</td>\n",
       "      <td>0</td>\n",
       "      <td>Thu</td>\n",
       "      <td>SLN</td>\n",
       "      <td>NL</td>\n",
       "      <td>1</td>\n",
       "      <td>LAN</td>\n",
       "      <td>NL</td>\n",
       "      <td>3</td>\n",
       "      <td>1</td>\n",
       "      <td>...</td>\n",
       "      <td>James Outman</td>\n",
       "      <td>8</td>\n",
       "      <td>heywj001</td>\n",
       "      <td>Jason Heyward</td>\n",
       "      <td>9</td>\n",
       "      <td>lux-g001</td>\n",
       "      <td>Gavin Lux</td>\n",
       "      <td>4</td>\n",
       "      <td>NaN</td>\n",
       "      <td>Y</td>\n",
       "    </tr>\n",
       "  </tbody>\n",
       "</table>\n",
       "<p>5 rows × 162 columns</p>\n",
       "</div>"
      ],
      "text/plain": [
       "       Date  Game Number Day of Week   VT VT League  VT Game Number   HT  \\\n",
       "0  20240320            0         Wed  LAN        NL               1  SDN   \n",
       "1  20240321            0         Thu  SDN        NL               2  LAN   \n",
       "2  20240328            0         Thu  COL        NL               1  ARI   \n",
       "3  20240328            0         Thu  WAS        NL               1  CIN   \n",
       "4  20240328            0         Thu  SLN        NL               1  LAN   \n",
       "\n",
       "  HT League  HT Game Number  VT Score  ...  HT Starting Player 7 Name  \\\n",
       "0        NL               1         5  ...             Luis Campusano   \n",
       "1        NL               2        15  ...               James Outman   \n",
       "2        NL               1         1  ...            Blaze Alexander   \n",
       "3        NL               1         2  ...              Spencer Steer   \n",
       "4        NL               3         1  ...               James Outman   \n",
       "\n",
       "   HT Starting Player 7 Defensive Position  HT Starting Player 8 ID  \\\n",
       "0                                        2                 wadet002   \n",
       "1                                        8                 heywj001   \n",
       "2                                       10                 thoma004   \n",
       "3                                        7                 martn003   \n",
       "4                                        8                 heywj001   \n",
       "\n",
       "  HT Starting Player 8 Name HT Starting Player 8 Defensive Position  \\\n",
       "0                Tyler Wade                                       5   \n",
       "1             Jason Heyward                                       9   \n",
       "2               Alek Thomas                                       8   \n",
       "3              Nick Martini                                      10   \n",
       "4             Jason Heyward                                       9   \n",
       "\n",
       "   HT Starting Player 9 ID  HT Starting Player 9 Name  \\\n",
       "0                 merrj002            Jackson Merrill   \n",
       "1                 lux-g001                  Gavin Lux   \n",
       "2                 perdg001            Gerardo Perdomo   \n",
       "3                 stept001           Tyler Stephenson   \n",
       "4                 lux-g001                  Gavin Lux   \n",
       "\n",
       "  HT Starting Player 9 Defensive Position  Game Notes  Complete Record  \n",
       "0                                       8         NaN                Y  \n",
       "1                                       4         NaN                Y  \n",
       "2                                       6         NaN                Y  \n",
       "3                                       2         NaN                Y  \n",
       "4                                       4         NaN                Y  \n",
       "\n",
       "[5 rows x 162 columns]"
      ]
     },
     "execution_count": 91,
     "metadata": {},
     "output_type": "execute_result"
    }
   ],
   "source": [
    "mlb.head()"
   ]
  },
  {
   "cell_type": "markdown",
   "metadata": {},
   "source": [
    "After looking at the columns carefully we are going to select only a fraction of the columns from our dataset. Many of the columns we are leaving out are player specific data or information about the umpires that we are not focusing on in this analysis."
   ]
  },
  {
   "cell_type": "code",
   "execution_count": 92,
   "metadata": {},
   "outputs": [
    {
     "data": {
      "text/html": [
       "<div>\n",
       "<style scoped>\n",
       "    .dataframe tbody tr th:only-of-type {\n",
       "        vertical-align: middle;\n",
       "    }\n",
       "\n",
       "    .dataframe tbody tr th {\n",
       "        vertical-align: top;\n",
       "    }\n",
       "\n",
       "    .dataframe thead th {\n",
       "        text-align: right;\n",
       "    }\n",
       "</style>\n",
       "<table border=\"1\" class=\"dataframe\">\n",
       "  <thead>\n",
       "    <tr style=\"text-align: right;\">\n",
       "      <th></th>\n",
       "      <th>Date</th>\n",
       "      <th>Park ID</th>\n",
       "      <th>VT At-Bats</th>\n",
       "      <th>VT Hits</th>\n",
       "      <th>VT Doubles</th>\n",
       "      <th>VT Triples</th>\n",
       "      <th>VT Home Runs</th>\n",
       "      <th>HT At-Bats</th>\n",
       "      <th>HT Hits</th>\n",
       "      <th>HT Doubles</th>\n",
       "      <th>HT Triples</th>\n",
       "      <th>HT Home Runs</th>\n",
       "    </tr>\n",
       "  </thead>\n",
       "  <tbody>\n",
       "    <tr>\n",
       "      <th>0</th>\n",
       "      <td>20240320</td>\n",
       "      <td>SEO01</td>\n",
       "      <td>33</td>\n",
       "      <td>7</td>\n",
       "      <td>0</td>\n",
       "      <td>0</td>\n",
       "      <td>0</td>\n",
       "      <td>30</td>\n",
       "      <td>4</td>\n",
       "      <td>0</td>\n",
       "      <td>0</td>\n",
       "      <td>0</td>\n",
       "    </tr>\n",
       "    <tr>\n",
       "      <th>1</th>\n",
       "      <td>20240321</td>\n",
       "      <td>SEO01</td>\n",
       "      <td>43</td>\n",
       "      <td>18</td>\n",
       "      <td>3</td>\n",
       "      <td>1</td>\n",
       "      <td>1</td>\n",
       "      <td>42</td>\n",
       "      <td>16</td>\n",
       "      <td>3</td>\n",
       "      <td>0</td>\n",
       "      <td>1</td>\n",
       "    </tr>\n",
       "    <tr>\n",
       "      <th>2</th>\n",
       "      <td>20240328</td>\n",
       "      <td>PHO01</td>\n",
       "      <td>30</td>\n",
       "      <td>4</td>\n",
       "      <td>2</td>\n",
       "      <td>0</td>\n",
       "      <td>0</td>\n",
       "      <td>40</td>\n",
       "      <td>18</td>\n",
       "      <td>3</td>\n",
       "      <td>0</td>\n",
       "      <td>1</td>\n",
       "    </tr>\n",
       "    <tr>\n",
       "      <th>3</th>\n",
       "      <td>20240328</td>\n",
       "      <td>CIN09</td>\n",
       "      <td>32</td>\n",
       "      <td>6</td>\n",
       "      <td>0</td>\n",
       "      <td>0</td>\n",
       "      <td>1</td>\n",
       "      <td>34</td>\n",
       "      <td>10</td>\n",
       "      <td>3</td>\n",
       "      <td>0</td>\n",
       "      <td>2</td>\n",
       "    </tr>\n",
       "    <tr>\n",
       "      <th>4</th>\n",
       "      <td>20240328</td>\n",
       "      <td>LOS03</td>\n",
       "      <td>31</td>\n",
       "      <td>3</td>\n",
       "      <td>0</td>\n",
       "      <td>0</td>\n",
       "      <td>1</td>\n",
       "      <td>31</td>\n",
       "      <td>10</td>\n",
       "      <td>2</td>\n",
       "      <td>0</td>\n",
       "      <td>2</td>\n",
       "    </tr>\n",
       "  </tbody>\n",
       "</table>\n",
       "</div>"
      ],
      "text/plain": [
       "       Date Park ID  VT At-Bats  VT Hits  VT Doubles  VT Triples  \\\n",
       "0  20240320   SEO01          33        7           0           0   \n",
       "1  20240321   SEO01          43       18           3           1   \n",
       "2  20240328   PHO01          30        4           2           0   \n",
       "3  20240328   CIN09          32        6           0           0   \n",
       "4  20240328   LOS03          31        3           0           0   \n",
       "\n",
       "   VT Home Runs  HT At-Bats  HT Hits  HT Doubles  HT Triples  HT Home Runs  \n",
       "0             0          30        4           0           0             0  \n",
       "1             1          42       16           3           0             1  \n",
       "2             0          40       18           3           0             1  \n",
       "3             1          34       10           3           0             2  \n",
       "4             1          31       10           2           0             2  "
      ]
     },
     "execution_count": 92,
     "metadata": {},
     "output_type": "execute_result"
    }
   ],
   "source": [
    "mlb_stats = mlb[['Date', 'Park ID', 'VT At-Bats', 'VT Hits', 'VT Doubles', 'VT Triples',\n",
    "                       'VT Home Runs','HT At-Bats', 'HT Hits', 'HT Doubles', 'HT Triples',\n",
    "                         'HT Home Runs' ]]\n",
    "mlb_stats.head()"
   ]
  },
  {
   "cell_type": "markdown",
   "metadata": {},
   "source": [
    "The Park ID column contains unique codes that were created by the authors of the dataset. They have a three letter abbreviation for the city where the park is located and a two diget number to distinguish between parks within the same city. Other columns from this dataset that we are using are labeled with an abbreviation of VT for Visiting Team, and HT for Home Team, which is then followed by the stat that is measured for each column."
   ]
  },
  {
   "cell_type": "markdown",
   "metadata": {},
   "source": [
    "Next we are going to check the data types of our dataframe to make sure that they are appropriate"
   ]
  },
  {
   "cell_type": "code",
   "execution_count": 93,
   "metadata": {},
   "outputs": [
    {
     "name": "stdout",
     "output_type": "stream",
     "text": [
      "<class 'pandas.core.frame.DataFrame'>\n",
      "RangeIndex: 10616 entries, 0 to 10615\n",
      "Data columns (total 12 columns):\n",
      " #   Column        Non-Null Count  Dtype \n",
      "---  ------        --------------  ----- \n",
      " 0   Date          10616 non-null  int64 \n",
      " 1   Park ID       10616 non-null  object\n",
      " 2   VT At-Bats    10616 non-null  int64 \n",
      " 3   VT Hits       10616 non-null  int64 \n",
      " 4   VT Doubles    10616 non-null  int64 \n",
      " 5   VT Triples    10616 non-null  int64 \n",
      " 6   VT Home Runs  10616 non-null  int64 \n",
      " 7   HT At-Bats    10616 non-null  int64 \n",
      " 8   HT Hits       10616 non-null  int64 \n",
      " 9   HT Doubles    10616 non-null  int64 \n",
      " 10  HT Triples    10616 non-null  int64 \n",
      " 11  HT Home Runs  10616 non-null  int64 \n",
      "dtypes: int64(11), object(1)\n",
      "memory usage: 995.4+ KB\n"
     ]
    }
   ],
   "source": [
    "mlb_stats.info()"
   ]
  },
  {
   "cell_type": "markdown",
   "metadata": {},
   "source": [
    "Most of the data looks like they have appropriate types. We will change the date from int to a pandas datetime type however to more easily manipulate the data in later sections."
   ]
  },
  {
   "cell_type": "code",
   "execution_count": 94,
   "metadata": {},
   "outputs": [
    {
     "name": "stderr",
     "output_type": "stream",
     "text": [
      "/var/folders/pm/9vt22q8n1492gdz77qj4fnm00000gp/T/ipykernel_44536/3579300257.py:1: SettingWithCopyWarning:\n",
      "\n",
      "\n",
      "A value is trying to be set on a copy of a slice from a DataFrame.\n",
      "Try using .loc[row_indexer,col_indexer] = value instead\n",
      "\n",
      "See the caveats in the documentation: https://pandas.pydata.org/pandas-docs/stable/user_guide/indexing.html#returning-a-view-versus-a-copy\n",
      "\n"
     ]
    }
   ],
   "source": [
    "mlb_stats['Date'] = pd.to_datetime(mlb_stats['Date'].astype(str), format='%Y%m%d')"
   ]
  },
  {
   "cell_type": "markdown",
   "metadata": {},
   "source": [
    "Now this dataset also has game data dating back to the 2020 season so next we are going to select only rows that contain data from the 2024 season since that is our main focus of our analysis"
   ]
  },
  {
   "cell_type": "code",
   "execution_count": 95,
   "metadata": {},
   "outputs": [
    {
     "data": {
      "text/html": [
       "<div>\n",
       "<style scoped>\n",
       "    .dataframe tbody tr th:only-of-type {\n",
       "        vertical-align: middle;\n",
       "    }\n",
       "\n",
       "    .dataframe tbody tr th {\n",
       "        vertical-align: top;\n",
       "    }\n",
       "\n",
       "    .dataframe thead th {\n",
       "        text-align: right;\n",
       "    }\n",
       "</style>\n",
       "<table border=\"1\" class=\"dataframe\">\n",
       "  <thead>\n",
       "    <tr style=\"text-align: right;\">\n",
       "      <th></th>\n",
       "      <th>Date</th>\n",
       "      <th>Park ID</th>\n",
       "      <th>VT At-Bats</th>\n",
       "      <th>VT Hits</th>\n",
       "      <th>VT Doubles</th>\n",
       "      <th>VT Triples</th>\n",
       "      <th>VT Home Runs</th>\n",
       "      <th>HT At-Bats</th>\n",
       "      <th>HT Hits</th>\n",
       "      <th>HT Doubles</th>\n",
       "      <th>HT Triples</th>\n",
       "      <th>HT Home Runs</th>\n",
       "    </tr>\n",
       "  </thead>\n",
       "  <tbody>\n",
       "    <tr>\n",
       "      <th>2424</th>\n",
       "      <td>2024-09-29</td>\n",
       "      <td>NYC21</td>\n",
       "      <td>30</td>\n",
       "      <td>5</td>\n",
       "      <td>3</td>\n",
       "      <td>0</td>\n",
       "      <td>0</td>\n",
       "      <td>26</td>\n",
       "      <td>5</td>\n",
       "      <td>2</td>\n",
       "      <td>0</td>\n",
       "      <td>1</td>\n",
       "    </tr>\n",
       "    <tr>\n",
       "      <th>2425</th>\n",
       "      <td>2024-09-29</td>\n",
       "      <td>SEA03</td>\n",
       "      <td>34</td>\n",
       "      <td>7</td>\n",
       "      <td>3</td>\n",
       "      <td>0</td>\n",
       "      <td>0</td>\n",
       "      <td>32</td>\n",
       "      <td>9</td>\n",
       "      <td>3</td>\n",
       "      <td>0</td>\n",
       "      <td>1</td>\n",
       "    </tr>\n",
       "    <tr>\n",
       "      <th>2426</th>\n",
       "      <td>2024-09-29</td>\n",
       "      <td>TOR02</td>\n",
       "      <td>35</td>\n",
       "      <td>9</td>\n",
       "      <td>1</td>\n",
       "      <td>0</td>\n",
       "      <td>0</td>\n",
       "      <td>31</td>\n",
       "      <td>4</td>\n",
       "      <td>1</td>\n",
       "      <td>0</td>\n",
       "      <td>0</td>\n",
       "    </tr>\n",
       "    <tr>\n",
       "      <th>2427</th>\n",
       "      <td>2024-09-30</td>\n",
       "      <td>ATL03</td>\n",
       "      <td>37</td>\n",
       "      <td>11</td>\n",
       "      <td>2</td>\n",
       "      <td>0</td>\n",
       "      <td>2</td>\n",
       "      <td>38</td>\n",
       "      <td>12</td>\n",
       "      <td>1</td>\n",
       "      <td>0</td>\n",
       "      <td>2</td>\n",
       "    </tr>\n",
       "    <tr>\n",
       "      <th>2428</th>\n",
       "      <td>2024-09-30</td>\n",
       "      <td>ATL03</td>\n",
       "      <td>29</td>\n",
       "      <td>3</td>\n",
       "      <td>0</td>\n",
       "      <td>0</td>\n",
       "      <td>0</td>\n",
       "      <td>29</td>\n",
       "      <td>6</td>\n",
       "      <td>2</td>\n",
       "      <td>0</td>\n",
       "      <td>0</td>\n",
       "    </tr>\n",
       "  </tbody>\n",
       "</table>\n",
       "</div>"
      ],
      "text/plain": [
       "           Date Park ID  VT At-Bats  VT Hits  VT Doubles  VT Triples  \\\n",
       "2424 2024-09-29   NYC21          30        5           3           0   \n",
       "2425 2024-09-29   SEA03          34        7           3           0   \n",
       "2426 2024-09-29   TOR02          35        9           1           0   \n",
       "2427 2024-09-30   ATL03          37       11           2           0   \n",
       "2428 2024-09-30   ATL03          29        3           0           0   \n",
       "\n",
       "      VT Home Runs  HT At-Bats  HT Hits  HT Doubles  HT Triples  HT Home Runs  \n",
       "2424             0          26        5           2           0             1  \n",
       "2425             0          32        9           3           0             1  \n",
       "2426             0          31        4           1           0             0  \n",
       "2427             2          38       12           1           0             2  \n",
       "2428             0          29        6           2           0             0  "
      ]
     },
     "execution_count": 95,
     "metadata": {},
     "output_type": "execute_result"
    }
   ],
   "source": [
    "mlb_stats_2024 = mlb_stats[mlb_stats['Date'].dt.year == 2024]\n",
    "mlb_stats_2024.tail()"
   ]
  },
  {
   "cell_type": "code",
   "execution_count": 96,
   "metadata": {},
   "outputs": [
    {
     "data": {
      "text/html": [
       "<div>\n",
       "<style scoped>\n",
       "    .dataframe tbody tr th:only-of-type {\n",
       "        vertical-align: middle;\n",
       "    }\n",
       "\n",
       "    .dataframe tbody tr th {\n",
       "        vertical-align: top;\n",
       "    }\n",
       "\n",
       "    .dataframe thead th {\n",
       "        text-align: right;\n",
       "    }\n",
       "</style>\n",
       "<table border=\"1\" class=\"dataframe\">\n",
       "  <thead>\n",
       "    <tr style=\"text-align: right;\">\n",
       "      <th></th>\n",
       "      <th>Date</th>\n",
       "      <th>VT At-Bats</th>\n",
       "      <th>VT Hits</th>\n",
       "      <th>VT Doubles</th>\n",
       "      <th>VT Triples</th>\n",
       "      <th>VT Home Runs</th>\n",
       "      <th>HT At-Bats</th>\n",
       "      <th>HT Hits</th>\n",
       "      <th>HT Doubles</th>\n",
       "      <th>HT Triples</th>\n",
       "      <th>HT Home Runs</th>\n",
       "    </tr>\n",
       "  </thead>\n",
       "  <tbody>\n",
       "    <tr>\n",
       "      <th>count</th>\n",
       "      <td>2429</td>\n",
       "      <td>2429.00</td>\n",
       "      <td>2429.00</td>\n",
       "      <td>2429.00</td>\n",
       "      <td>2429.00</td>\n",
       "      <td>2429.00</td>\n",
       "      <td>2429.00</td>\n",
       "      <td>2429.00</td>\n",
       "      <td>2429.00</td>\n",
       "      <td>2429.00</td>\n",
       "      <td>2429.00</td>\n",
       "    </tr>\n",
       "    <tr>\n",
       "      <th>mean</th>\n",
       "      <td>2024-06-28 10:15:21.860847872</td>\n",
       "      <td>34.58</td>\n",
       "      <td>8.37</td>\n",
       "      <td>1.62</td>\n",
       "      <td>0.14</td>\n",
       "      <td>1.12</td>\n",
       "      <td>32.81</td>\n",
       "      <td>8.02</td>\n",
       "      <td>1.58</td>\n",
       "      <td>0.14</td>\n",
       "      <td>1.13</td>\n",
       "    </tr>\n",
       "    <tr>\n",
       "      <th>min</th>\n",
       "      <td>2024-03-20 00:00:00</td>\n",
       "      <td>17.00</td>\n",
       "      <td>0.00</td>\n",
       "      <td>0.00</td>\n",
       "      <td>0.00</td>\n",
       "      <td>0.00</td>\n",
       "      <td>17.00</td>\n",
       "      <td>0.00</td>\n",
       "      <td>0.00</td>\n",
       "      <td>0.00</td>\n",
       "      <td>0.00</td>\n",
       "    </tr>\n",
       "    <tr>\n",
       "      <th>25%</th>\n",
       "      <td>2024-05-12 00:00:00</td>\n",
       "      <td>32.00</td>\n",
       "      <td>6.00</td>\n",
       "      <td>1.00</td>\n",
       "      <td>0.00</td>\n",
       "      <td>0.00</td>\n",
       "      <td>30.00</td>\n",
       "      <td>6.00</td>\n",
       "      <td>1.00</td>\n",
       "      <td>0.00</td>\n",
       "      <td>0.00</td>\n",
       "    </tr>\n",
       "    <tr>\n",
       "      <th>50%</th>\n",
       "      <td>2024-06-27 00:00:00</td>\n",
       "      <td>34.00</td>\n",
       "      <td>8.00</td>\n",
       "      <td>1.00</td>\n",
       "      <td>0.00</td>\n",
       "      <td>1.00</td>\n",
       "      <td>33.00</td>\n",
       "      <td>8.00</td>\n",
       "      <td>1.00</td>\n",
       "      <td>0.00</td>\n",
       "      <td>1.00</td>\n",
       "    </tr>\n",
       "    <tr>\n",
       "      <th>75%</th>\n",
       "      <td>2024-08-15 00:00:00</td>\n",
       "      <td>37.00</td>\n",
       "      <td>11.00</td>\n",
       "      <td>2.00</td>\n",
       "      <td>0.00</td>\n",
       "      <td>2.00</td>\n",
       "      <td>35.00</td>\n",
       "      <td>10.00</td>\n",
       "      <td>2.00</td>\n",
       "      <td>0.00</td>\n",
       "      <td>2.00</td>\n",
       "    </tr>\n",
       "    <tr>\n",
       "      <th>max</th>\n",
       "      <td>2024-09-30 00:00:00</td>\n",
       "      <td>51.00</td>\n",
       "      <td>24.00</td>\n",
       "      <td>9.00</td>\n",
       "      <td>3.00</td>\n",
       "      <td>8.00</td>\n",
       "      <td>49.00</td>\n",
       "      <td>24.00</td>\n",
       "      <td>10.00</td>\n",
       "      <td>2.00</td>\n",
       "      <td>7.00</td>\n",
       "    </tr>\n",
       "    <tr>\n",
       "      <th>std</th>\n",
       "      <td>NaN</td>\n",
       "      <td>3.77</td>\n",
       "      <td>3.54</td>\n",
       "      <td>1.39</td>\n",
       "      <td>0.38</td>\n",
       "      <td>1.10</td>\n",
       "      <td>3.40</td>\n",
       "      <td>3.22</td>\n",
       "      <td>1.35</td>\n",
       "      <td>0.39</td>\n",
       "      <td>1.10</td>\n",
       "    </tr>\n",
       "  </tbody>\n",
       "</table>\n",
       "</div>"
      ],
      "text/plain": [
       "                                Date  VT At-Bats  VT Hits  VT Doubles  \\\n",
       "count                           2429     2429.00  2429.00     2429.00   \n",
       "mean   2024-06-28 10:15:21.860847872       34.58     8.37        1.62   \n",
       "min              2024-03-20 00:00:00       17.00     0.00        0.00   \n",
       "25%              2024-05-12 00:00:00       32.00     6.00        1.00   \n",
       "50%              2024-06-27 00:00:00       34.00     8.00        1.00   \n",
       "75%              2024-08-15 00:00:00       37.00    11.00        2.00   \n",
       "max              2024-09-30 00:00:00       51.00    24.00        9.00   \n",
       "std                              NaN        3.77     3.54        1.39   \n",
       "\n",
       "       VT Triples  VT Home Runs  HT At-Bats  HT Hits  HT Doubles  HT Triples  \\\n",
       "count     2429.00       2429.00     2429.00  2429.00     2429.00     2429.00   \n",
       "mean         0.14          1.12       32.81     8.02        1.58        0.14   \n",
       "min          0.00          0.00       17.00     0.00        0.00        0.00   \n",
       "25%          0.00          0.00       30.00     6.00        1.00        0.00   \n",
       "50%          0.00          1.00       33.00     8.00        1.00        0.00   \n",
       "75%          0.00          2.00       35.00    10.00        2.00        0.00   \n",
       "max          3.00          8.00       49.00    24.00       10.00        2.00   \n",
       "std          0.38          1.10        3.40     3.22        1.35        0.39   \n",
       "\n",
       "       HT Home Runs  \n",
       "count       2429.00  \n",
       "mean           1.13  \n",
       "min            0.00  \n",
       "25%            0.00  \n",
       "50%            1.00  \n",
       "75%            2.00  \n",
       "max            7.00  \n",
       "std            1.10  "
      ]
     },
     "execution_count": 96,
     "metadata": {},
     "output_type": "execute_result"
    }
   ],
   "source": [
    "# Summary Statistics\n",
    "\n",
    "mlb_stats_2024.describe().round(2)"
   ]
  },
  {
   "cell_type": "markdown",
   "metadata": {},
   "source": [
    "Some useful insights gained from these statistics are the average numbers of at bats and hits for all teams over the course of a season. We can use these when comparing games that were played at certain stadiums."
   ]
  },
  {
   "cell_type": "markdown",
   "metadata": {},
   "source": [
    "[Source](https://www.retrosheet.org/downloads/othercsvs.html)\n",
    "\n",
    "Data was uploaded on 12/3/24\n",
    "\n",
    "This dataset contains some information about the results of games for the 2024 MLB season as well as information about the environmental factors of each game. This is where we will pull most of our data concerining external factors that might affect a games outcome."
   ]
  },
  {
   "cell_type": "code",
   "execution_count": 97,
   "metadata": {
    "colab": {
     "base_uri": "https://localhost:8080/",
     "height": 236
    },
    "id": "Whw55st6XJmV",
    "outputId": "81139313-0a38-4478-a9d7-93dcec27fcf8"
   },
   "outputs": [],
   "source": [
    "weather = pd.read_csv('Data/2024gameinfo.csv')"
   ]
  },
  {
   "cell_type": "code",
   "execution_count": 98,
   "metadata": {
    "colab": {
     "base_uri": "https://localhost:8080/"
    },
    "id": "iIl0jcSjaNad",
    "outputId": "bab57535-61e1-45f6-d957-d814d6e3b745"
   },
   "outputs": [
    {
     "data": {
      "text/plain": [
       "Index(['gid', 'visteam', 'hometeam', 'site', 'date', 'number', 'starttime',\n",
       "       'daynight', 'innings', 'tiebreaker', 'usedh', 'htbf', 'timeofgame',\n",
       "       'attendance', 'fieldcond', 'precip', 'sky', 'temp', 'winddir',\n",
       "       'windspeed', 'oscorer', 'forfeit', 'suspend', 'umphome', 'ump1b',\n",
       "       'ump2b', 'ump3b', 'umplf', 'umprf', 'wp', 'lp', 'save', 'gametype',\n",
       "       'vruns', 'hruns', 'wteam', 'lteam', 'line', 'batteries', 'lineups',\n",
       "       'box', 'pbp', 'season'],\n",
       "      dtype='object')"
      ]
     },
     "execution_count": 98,
     "metadata": {},
     "output_type": "execute_result"
    }
   ],
   "source": [
    "weather.columns"
   ]
  },
  {
   "cell_type": "markdown",
   "metadata": {},
   "source": [
    "Much like our first data set there are many columns that are not relevant to our analysis so in the next steps we will select only the necessary columns."
   ]
  },
  {
   "cell_type": "code",
   "execution_count": 99,
   "metadata": {
    "id": "MW2EK7qpXM5y"
   },
   "outputs": [],
   "source": [
    "weather_relevant = weather.drop(['starttime', 'tiebreaker', 'usedh', 'forfeit',\n",
    "                                  'umphome', 'ump1b','ump2b', 'ump3b', 'umplf',\n",
    "                                  'umprf', 'wp', 'lp', 'save', 'htbf', 'timeofgame',\n",
    "                                  'batteries', 'lineups', 'box', 'pbp', 'suspend',\n",
    "                                  'season', 'gid', 'innings', 'number', 'line', 'attendance',\n",
    "                                  'wteam', 'lteam', 'fieldcond', 'oscorer', 'gametype'], axis = 1)"
   ]
  },
  {
   "cell_type": "markdown",
   "metadata": {},
   "source": [
    "Next I want to change the column label of site to Park ID to keep it consistent with the other dataset. I would like to change all the column labels so that they are cosistent with the same format if time permits but for now I will have to leave them as they are"
   ]
  },
  {
   "cell_type": "code",
   "execution_count": 100,
   "metadata": {},
   "outputs": [
    {
     "data": {
      "text/html": [
       "<div>\n",
       "<style scoped>\n",
       "    .dataframe tbody tr th:only-of-type {\n",
       "        vertical-align: middle;\n",
       "    }\n",
       "\n",
       "    .dataframe tbody tr th {\n",
       "        vertical-align: top;\n",
       "    }\n",
       "\n",
       "    .dataframe thead th {\n",
       "        text-align: right;\n",
       "    }\n",
       "</style>\n",
       "<table border=\"1\" class=\"dataframe\">\n",
       "  <thead>\n",
       "    <tr style=\"text-align: right;\">\n",
       "      <th></th>\n",
       "      <th>visteam</th>\n",
       "      <th>hometeam</th>\n",
       "      <th>Park ID</th>\n",
       "      <th>date</th>\n",
       "      <th>daynight</th>\n",
       "      <th>precip</th>\n",
       "      <th>sky</th>\n",
       "      <th>temp</th>\n",
       "      <th>winddir</th>\n",
       "      <th>windspeed</th>\n",
       "      <th>vruns</th>\n",
       "      <th>hruns</th>\n",
       "    </tr>\n",
       "  </thead>\n",
       "  <tbody>\n",
       "    <tr>\n",
       "      <th>0</th>\n",
       "      <td>LAN</td>\n",
       "      <td>SDN</td>\n",
       "      <td>SEO01</td>\n",
       "      <td>20240320</td>\n",
       "      <td>night</td>\n",
       "      <td>none</td>\n",
       "      <td>dome</td>\n",
       "      <td>72</td>\n",
       "      <td>unknown</td>\n",
       "      <td>0</td>\n",
       "      <td>5</td>\n",
       "      <td>2</td>\n",
       "    </tr>\n",
       "    <tr>\n",
       "      <th>1</th>\n",
       "      <td>SDN</td>\n",
       "      <td>LAN</td>\n",
       "      <td>SEO01</td>\n",
       "      <td>20240321</td>\n",
       "      <td>night</td>\n",
       "      <td>none</td>\n",
       "      <td>dome</td>\n",
       "      <td>72</td>\n",
       "      <td>unknown</td>\n",
       "      <td>0</td>\n",
       "      <td>15</td>\n",
       "      <td>11</td>\n",
       "    </tr>\n",
       "    <tr>\n",
       "      <th>2</th>\n",
       "      <td>COL</td>\n",
       "      <td>ARI</td>\n",
       "      <td>PHO01</td>\n",
       "      <td>20240328</td>\n",
       "      <td>night</td>\n",
       "      <td>none</td>\n",
       "      <td>overcast</td>\n",
       "      <td>73</td>\n",
       "      <td>unknown</td>\n",
       "      <td>2</td>\n",
       "      <td>1</td>\n",
       "      <td>16</td>\n",
       "    </tr>\n",
       "    <tr>\n",
       "      <th>3</th>\n",
       "      <td>ANA</td>\n",
       "      <td>BAL</td>\n",
       "      <td>BAL12</td>\n",
       "      <td>20240328</td>\n",
       "      <td>day</td>\n",
       "      <td>none</td>\n",
       "      <td>cloudy</td>\n",
       "      <td>54</td>\n",
       "      <td>fromlf</td>\n",
       "      <td>9</td>\n",
       "      <td>3</td>\n",
       "      <td>11</td>\n",
       "    </tr>\n",
       "    <tr>\n",
       "      <th>4</th>\n",
       "      <td>DET</td>\n",
       "      <td>CHA</td>\n",
       "      <td>CHI12</td>\n",
       "      <td>20240328</td>\n",
       "      <td>day</td>\n",
       "      <td>none</td>\n",
       "      <td>cloudy</td>\n",
       "      <td>50</td>\n",
       "      <td>tolf</td>\n",
       "      <td>14</td>\n",
       "      <td>1</td>\n",
       "      <td>0</td>\n",
       "    </tr>\n",
       "    <tr>\n",
       "      <th>...</th>\n",
       "      <td>...</td>\n",
       "      <td>...</td>\n",
       "      <td>...</td>\n",
       "      <td>...</td>\n",
       "      <td>...</td>\n",
       "      <td>...</td>\n",
       "      <td>...</td>\n",
       "      <td>...</td>\n",
       "      <td>...</td>\n",
       "      <td>...</td>\n",
       "      <td>...</td>\n",
       "      <td>...</td>\n",
       "    </tr>\n",
       "    <tr>\n",
       "      <th>2468</th>\n",
       "      <td>NYA</td>\n",
       "      <td>LAN</td>\n",
       "      <td>LOS03</td>\n",
       "      <td>20241025</td>\n",
       "      <td>night</td>\n",
       "      <td>none</td>\n",
       "      <td>sunny</td>\n",
       "      <td>76</td>\n",
       "      <td>rtol</td>\n",
       "      <td>5</td>\n",
       "      <td>3</td>\n",
       "      <td>6</td>\n",
       "    </tr>\n",
       "    <tr>\n",
       "      <th>2469</th>\n",
       "      <td>NYA</td>\n",
       "      <td>LAN</td>\n",
       "      <td>LOS03</td>\n",
       "      <td>20241026</td>\n",
       "      <td>night</td>\n",
       "      <td>none</td>\n",
       "      <td>cloudy</td>\n",
       "      <td>77</td>\n",
       "      <td>ltor</td>\n",
       "      <td>5</td>\n",
       "      <td>2</td>\n",
       "      <td>4</td>\n",
       "    </tr>\n",
       "    <tr>\n",
       "      <th>2470</th>\n",
       "      <td>LAN</td>\n",
       "      <td>NYA</td>\n",
       "      <td>NYC21</td>\n",
       "      <td>20241028</td>\n",
       "      <td>night</td>\n",
       "      <td>none</td>\n",
       "      <td>sunny</td>\n",
       "      <td>52</td>\n",
       "      <td>fromlf</td>\n",
       "      <td>5</td>\n",
       "      <td>4</td>\n",
       "      <td>2</td>\n",
       "    </tr>\n",
       "    <tr>\n",
       "      <th>2471</th>\n",
       "      <td>LAN</td>\n",
       "      <td>NYA</td>\n",
       "      <td>NYC21</td>\n",
       "      <td>20241029</td>\n",
       "      <td>night</td>\n",
       "      <td>none</td>\n",
       "      <td>cloudy</td>\n",
       "      <td>61</td>\n",
       "      <td>rtol</td>\n",
       "      <td>10</td>\n",
       "      <td>4</td>\n",
       "      <td>11</td>\n",
       "    </tr>\n",
       "    <tr>\n",
       "      <th>2472</th>\n",
       "      <td>LAN</td>\n",
       "      <td>NYA</td>\n",
       "      <td>NYC21</td>\n",
       "      <td>20241030</td>\n",
       "      <td>night</td>\n",
       "      <td>none</td>\n",
       "      <td>cloudy</td>\n",
       "      <td>67</td>\n",
       "      <td>tolf</td>\n",
       "      <td>5</td>\n",
       "      <td>7</td>\n",
       "      <td>6</td>\n",
       "    </tr>\n",
       "  </tbody>\n",
       "</table>\n",
       "<p>2473 rows × 12 columns</p>\n",
       "</div>"
      ],
      "text/plain": [
       "     visteam hometeam Park ID      date daynight precip       sky  temp  \\\n",
       "0        LAN      SDN   SEO01  20240320    night   none      dome    72   \n",
       "1        SDN      LAN   SEO01  20240321    night   none      dome    72   \n",
       "2        COL      ARI   PHO01  20240328    night   none  overcast    73   \n",
       "3        ANA      BAL   BAL12  20240328      day   none    cloudy    54   \n",
       "4        DET      CHA   CHI12  20240328      day   none    cloudy    50   \n",
       "...      ...      ...     ...       ...      ...    ...       ...   ...   \n",
       "2468     NYA      LAN   LOS03  20241025    night   none     sunny    76   \n",
       "2469     NYA      LAN   LOS03  20241026    night   none    cloudy    77   \n",
       "2470     LAN      NYA   NYC21  20241028    night   none     sunny    52   \n",
       "2471     LAN      NYA   NYC21  20241029    night   none    cloudy    61   \n",
       "2472     LAN      NYA   NYC21  20241030    night   none    cloudy    67   \n",
       "\n",
       "      winddir  windspeed  vruns  hruns  \n",
       "0     unknown          0      5      2  \n",
       "1     unknown          0     15     11  \n",
       "2     unknown          2      1     16  \n",
       "3      fromlf          9      3     11  \n",
       "4        tolf         14      1      0  \n",
       "...       ...        ...    ...    ...  \n",
       "2468     rtol          5      3      6  \n",
       "2469     ltor          5      2      4  \n",
       "2470   fromlf          5      4      2  \n",
       "2471     rtol         10      4     11  \n",
       "2472     tolf          5      7      6  \n",
       "\n",
       "[2473 rows x 12 columns]"
      ]
     },
     "execution_count": 100,
     "metadata": {},
     "output_type": "execute_result"
    }
   ],
   "source": [
    "weather_relevant.rename(columns={'site': 'Park ID'}, inplace=True)\n",
    "weather_relevant"
   ]
  },
  {
   "cell_type": "markdown",
   "metadata": {},
   "source": [
    "Columns are as follows:\n",
    "- visteam: Three letter abreviation of the visiting team for each game\n",
    "\n",
    "- hometeam: Three letter abreviation of the home team for each game\n",
    "\n",
    "- Park ID: same as variable from kaggle dataset explained above\n",
    "\n",
    "- precip: categorical variable that describes a general level of precipitation for the game with values of, 'none', 'drizzle', 'rain', and 'unkown'\n",
    "\n",
    "- sky: categorical variable describing the sky conditions of the game played\n",
    "\n",
    "- winddir: categorical variable describing the wind direction for the game. Values indicate direction by stating whether the wind is coming from a section of the field toward home plate or another section of field or to a section of the field from home plate.\n",
    "\n",
    "- vruns: runs scored by visiting team\n",
    "\n",
    "- hruns: runs scored by home team"
   ]
  },
  {
   "cell_type": "code",
   "execution_count": 101,
   "metadata": {
    "colab": {
     "base_uri": "https://localhost:8080/",
     "height": 206
    },
    "id": "vohiHcg1ZMR1",
    "outputId": "413a9f18-2413-46a8-e738-b888a3a93088"
   },
   "outputs": [
    {
     "data": {
      "text/html": [
       "<div>\n",
       "<style scoped>\n",
       "    .dataframe tbody tr th:only-of-type {\n",
       "        vertical-align: middle;\n",
       "    }\n",
       "\n",
       "    .dataframe tbody tr th {\n",
       "        vertical-align: top;\n",
       "    }\n",
       "\n",
       "    .dataframe thead th {\n",
       "        text-align: right;\n",
       "    }\n",
       "</style>\n",
       "<table border=\"1\" class=\"dataframe\">\n",
       "  <thead>\n",
       "    <tr style=\"text-align: right;\">\n",
       "      <th></th>\n",
       "      <th>visteam</th>\n",
       "      <th>hometeam</th>\n",
       "      <th>Park ID</th>\n",
       "      <th>date</th>\n",
       "      <th>daynight</th>\n",
       "      <th>precip</th>\n",
       "      <th>sky</th>\n",
       "      <th>temp</th>\n",
       "      <th>winddir</th>\n",
       "      <th>windspeed</th>\n",
       "      <th>vruns</th>\n",
       "      <th>hruns</th>\n",
       "    </tr>\n",
       "  </thead>\n",
       "  <tbody>\n",
       "    <tr>\n",
       "      <th>0</th>\n",
       "      <td>LAN</td>\n",
       "      <td>SDN</td>\n",
       "      <td>SEO01</td>\n",
       "      <td>20240320</td>\n",
       "      <td>night</td>\n",
       "      <td>none</td>\n",
       "      <td>dome</td>\n",
       "      <td>72</td>\n",
       "      <td>unknown</td>\n",
       "      <td>0</td>\n",
       "      <td>5</td>\n",
       "      <td>2</td>\n",
       "    </tr>\n",
       "    <tr>\n",
       "      <th>1</th>\n",
       "      <td>SDN</td>\n",
       "      <td>LAN</td>\n",
       "      <td>SEO01</td>\n",
       "      <td>20240321</td>\n",
       "      <td>night</td>\n",
       "      <td>none</td>\n",
       "      <td>dome</td>\n",
       "      <td>72</td>\n",
       "      <td>unknown</td>\n",
       "      <td>0</td>\n",
       "      <td>15</td>\n",
       "      <td>11</td>\n",
       "    </tr>\n",
       "    <tr>\n",
       "      <th>2</th>\n",
       "      <td>COL</td>\n",
       "      <td>ARI</td>\n",
       "      <td>PHO01</td>\n",
       "      <td>20240328</td>\n",
       "      <td>night</td>\n",
       "      <td>none</td>\n",
       "      <td>overcast</td>\n",
       "      <td>73</td>\n",
       "      <td>unknown</td>\n",
       "      <td>2</td>\n",
       "      <td>1</td>\n",
       "      <td>16</td>\n",
       "    </tr>\n",
       "    <tr>\n",
       "      <th>3</th>\n",
       "      <td>ANA</td>\n",
       "      <td>BAL</td>\n",
       "      <td>BAL12</td>\n",
       "      <td>20240328</td>\n",
       "      <td>day</td>\n",
       "      <td>none</td>\n",
       "      <td>cloudy</td>\n",
       "      <td>54</td>\n",
       "      <td>fromlf</td>\n",
       "      <td>9</td>\n",
       "      <td>3</td>\n",
       "      <td>11</td>\n",
       "    </tr>\n",
       "    <tr>\n",
       "      <th>4</th>\n",
       "      <td>DET</td>\n",
       "      <td>CHA</td>\n",
       "      <td>CHI12</td>\n",
       "      <td>20240328</td>\n",
       "      <td>day</td>\n",
       "      <td>none</td>\n",
       "      <td>cloudy</td>\n",
       "      <td>50</td>\n",
       "      <td>tolf</td>\n",
       "      <td>14</td>\n",
       "      <td>1</td>\n",
       "      <td>0</td>\n",
       "    </tr>\n",
       "  </tbody>\n",
       "</table>\n",
       "</div>"
      ],
      "text/plain": [
       "  visteam hometeam Park ID      date daynight precip       sky  temp  winddir  \\\n",
       "0     LAN      SDN   SEO01  20240320    night   none      dome    72  unknown   \n",
       "1     SDN      LAN   SEO01  20240321    night   none      dome    72  unknown   \n",
       "2     COL      ARI   PHO01  20240328    night   none  overcast    73  unknown   \n",
       "3     ANA      BAL   BAL12  20240328      day   none    cloudy    54   fromlf   \n",
       "4     DET      CHA   CHI12  20240328      day   none    cloudy    50     tolf   \n",
       "\n",
       "   windspeed  vruns  hruns  \n",
       "0          0      5      2  \n",
       "1          0     15     11  \n",
       "2          2      1     16  \n",
       "3          9      3     11  \n",
       "4         14      1      0  "
      ]
     },
     "execution_count": 101,
     "metadata": {},
     "output_type": "execute_result"
    }
   ],
   "source": [
    "weather_relevant.head()"
   ]
  },
  {
   "cell_type": "code",
   "execution_count": 102,
   "metadata": {},
   "outputs": [
    {
     "data": {
      "text/html": [
       "<div>\n",
       "<style scoped>\n",
       "    .dataframe tbody tr th:only-of-type {\n",
       "        vertical-align: middle;\n",
       "    }\n",
       "\n",
       "    .dataframe tbody tr th {\n",
       "        vertical-align: top;\n",
       "    }\n",
       "\n",
       "    .dataframe thead th {\n",
       "        text-align: right;\n",
       "    }\n",
       "</style>\n",
       "<table border=\"1\" class=\"dataframe\">\n",
       "  <thead>\n",
       "    <tr style=\"text-align: right;\">\n",
       "      <th></th>\n",
       "      <th>date</th>\n",
       "      <th>temp</th>\n",
       "      <th>windspeed</th>\n",
       "      <th>vruns</th>\n",
       "      <th>hruns</th>\n",
       "    </tr>\n",
       "  </thead>\n",
       "  <tbody>\n",
       "    <tr>\n",
       "      <th>count</th>\n",
       "      <td>2473.00</td>\n",
       "      <td>2473.00</td>\n",
       "      <td>2473.00</td>\n",
       "      <td>2473.00</td>\n",
       "      <td>2473.00</td>\n",
       "    </tr>\n",
       "    <tr>\n",
       "      <th>mean</th>\n",
       "      <td>20240662.80</td>\n",
       "      <td>73.34</td>\n",
       "      <td>6.70</td>\n",
       "      <td>4.41</td>\n",
       "      <td>4.37</td>\n",
       "    </tr>\n",
       "    <tr>\n",
       "      <th>std</th>\n",
       "      <td>180.73</td>\n",
       "      <td>10.13</td>\n",
       "      <td>4.77</td>\n",
       "      <td>3.15</td>\n",
       "      <td>3.01</td>\n",
       "    </tr>\n",
       "    <tr>\n",
       "      <th>min</th>\n",
       "      <td>20240320.00</td>\n",
       "      <td>0.00</td>\n",
       "      <td>0.00</td>\n",
       "      <td>0.00</td>\n",
       "      <td>0.00</td>\n",
       "    </tr>\n",
       "    <tr>\n",
       "      <th>25%</th>\n",
       "      <td>20240513.00</td>\n",
       "      <td>68.00</td>\n",
       "      <td>3.00</td>\n",
       "      <td>2.00</td>\n",
       "      <td>2.00</td>\n",
       "    </tr>\n",
       "    <tr>\n",
       "      <th>50%</th>\n",
       "      <td>20240629.00</td>\n",
       "      <td>74.00</td>\n",
       "      <td>7.00</td>\n",
       "      <td>4.00</td>\n",
       "      <td>4.00</td>\n",
       "    </tr>\n",
       "    <tr>\n",
       "      <th>75%</th>\n",
       "      <td>20240818.00</td>\n",
       "      <td>80.00</td>\n",
       "      <td>10.00</td>\n",
       "      <td>6.00</td>\n",
       "      <td>6.00</td>\n",
       "    </tr>\n",
       "    <tr>\n",
       "      <th>max</th>\n",
       "      <td>20241030.00</td>\n",
       "      <td>103.00</td>\n",
       "      <td>26.00</td>\n",
       "      <td>20.00</td>\n",
       "      <td>20.00</td>\n",
       "    </tr>\n",
       "  </tbody>\n",
       "</table>\n",
       "</div>"
      ],
      "text/plain": [
       "              date     temp  windspeed    vruns    hruns\n",
       "count      2473.00  2473.00    2473.00  2473.00  2473.00\n",
       "mean   20240662.80    73.34       6.70     4.41     4.37\n",
       "std         180.73    10.13       4.77     3.15     3.01\n",
       "min    20240320.00     0.00       0.00     0.00     0.00\n",
       "25%    20240513.00    68.00       3.00     2.00     2.00\n",
       "50%    20240629.00    74.00       7.00     4.00     4.00\n",
       "75%    20240818.00    80.00      10.00     6.00     6.00\n",
       "max    20241030.00   103.00      26.00    20.00    20.00"
      ]
     },
     "execution_count": 102,
     "metadata": {},
     "output_type": "execute_result"
    }
   ],
   "source": [
    "# Summary statistics\n",
    "\n",
    "weather_relevant.describe().round(2)"
   ]
  },
  {
   "cell_type": "markdown",
   "metadata": {},
   "source": [
    "Here we can use some of these statistics to look at how average temperature or windspeed affect games\n"
   ]
  },
  {
   "cell_type": "markdown",
   "metadata": {},
   "source": [
    "Next we will grab our final data set that includes elevation data for each stadium. We are going to use web scraping to pull a table from [Baseball Savant](https://baseballsavant.mlb.com/leaderboard/statcast-park-factors?type=distance&year=2024&batSide=&stat=index_wOBA&condition=All&rolling=3&parks=mlb) that has the relavant information"
   ]
  },
  {
   "cell_type": "code",
   "execution_count": 103,
   "metadata": {},
   "outputs": [],
   "source": [
    "baseball_savant = requests.get('https://baseballsavant.mlb.com/leaderboard/statcast-park-factors?type=distance&year=2024&batSide=&stat=index_wOBA&condition=All&rolling=3&parks=mlb')"
   ]
  },
  {
   "cell_type": "markdown",
   "metadata": {},
   "source": [
    "Now we'll check to make sure that the page was loaded successfully"
   ]
  },
  {
   "cell_type": "code",
   "execution_count": 104,
   "metadata": {},
   "outputs": [
    {
     "data": {
      "text/plain": [
       "<Response [200]>"
      ]
     },
     "execution_count": 104,
     "metadata": {},
     "output_type": "execute_result"
    }
   ],
   "source": [
    "baseball_savant"
   ]
  },
  {
   "cell_type": "markdown",
   "metadata": {},
   "source": [
    "200 is the response we want and it means that the page was loaded successfully"
   ]
  },
  {
   "cell_type": "markdown",
   "metadata": {},
   "source": [
    "Now we will translate the resonse into a text that contains the html code for the site. After converting the response to text we will use the BeautifulSoup method to parse through the text and grab the table we are looking for."
   ]
  },
  {
   "cell_type": "code",
   "execution_count": 105,
   "metadata": {},
   "outputs": [],
   "source": [
    "baseball_savant_text = baseball_savant.text"
   ]
  },
  {
   "cell_type": "code",
   "execution_count": 106,
   "metadata": {},
   "outputs": [],
   "source": [
    "soup = BeautifulSoup(baseball_savant_text)"
   ]
  },
  {
   "cell_type": "markdown",
   "metadata": {},
   "source": [
    "Now that we have our text sorted we can look for our table"
   ]
  },
  {
   "cell_type": "markdown",
   "metadata": {},
   "source": [
    "Because the table on the site is stored as a java script variable it was a little tricker to retrieve than a normal table but these were the steps we took to retrieve it"
   ]
  },
  {
   "cell_type": "markdown",
   "metadata": {},
   "source": [
    "In this first part we are looking for a script object that contains the text 'var data =' which was found upon inspection of the html text and webpage using the inspect tool also"
   ]
  },
  {
   "cell_type": "code",
   "execution_count": 107,
   "metadata": {},
   "outputs": [
    {
     "name": "stderr",
     "output_type": "stream",
     "text": [
      "/var/folders/pm/9vt22q8n1492gdz77qj4fnm00000gp/T/ipykernel_44536/1226957470.py:1: DeprecationWarning:\n",
      "\n",
      "The 'text' argument to find()-type methods is deprecated. Use 'string' instead.\n",
      "\n"
     ]
    }
   ],
   "source": [
    "script_tag = soup.find('script', text=re.compile('var data ='))\n",
    "script_content = script_tag.string"
   ]
  },
  {
   "cell_type": "markdown",
   "metadata": {},
   "source": [
    "Next we extract the json part with another regex pattern"
   ]
  },
  {
   "cell_type": "code",
   "execution_count": 108,
   "metadata": {},
   "outputs": [],
   "source": [
    "json_text = re.search(r'var data = (\\[.*?\\]);' , script_content).group(1)"
   ]
  },
  {
   "cell_type": "markdown",
   "metadata": {},
   "source": [
    "Now we take the text and convert it to a json format"
   ]
  },
  {
   "cell_type": "code",
   "execution_count": 109,
   "metadata": {},
   "outputs": [],
   "source": [
    "data = json.loads(json_text)"
   ]
  },
  {
   "cell_type": "markdown",
   "metadata": {},
   "source": [
    "Now finally we can convert the json into a pandas df"
   ]
  },
  {
   "cell_type": "code",
   "execution_count": 110,
   "metadata": {},
   "outputs": [],
   "source": [
    "baseball_savant_table = pd.DataFrame(data)"
   ]
  },
  {
   "cell_type": "markdown",
   "metadata": {},
   "source": [
    "We're going to clean this dataframe a bit as well because we are only looking at this data for it's elevation measurments"
   ]
  },
  {
   "cell_type": "code",
   "execution_count": 111,
   "metadata": {},
   "outputs": [
    {
     "data": {
      "text/html": [
       "<div>\n",
       "<style scoped>\n",
       "    .dataframe tbody tr th:only-of-type {\n",
       "        vertical-align: middle;\n",
       "    }\n",
       "\n",
       "    .dataframe tbody tr th {\n",
       "        vertical-align: top;\n",
       "    }\n",
       "\n",
       "    .dataframe thead th {\n",
       "        text-align: right;\n",
       "    }\n",
       "</style>\n",
       "<table border=\"1\" class=\"dataframe\">\n",
       "  <thead>\n",
       "    <tr style=\"text-align: right;\">\n",
       "      <th></th>\n",
       "      <th>venue_name</th>\n",
       "      <th>elevation_feet</th>\n",
       "    </tr>\n",
       "  </thead>\n",
       "  <tbody>\n",
       "    <tr>\n",
       "      <th>0</th>\n",
       "      <td>Oracle Park</td>\n",
       "      <td>0</td>\n",
       "    </tr>\n",
       "    <tr>\n",
       "      <th>1</th>\n",
       "      <td>Oakland Coliseum</td>\n",
       "      <td>3</td>\n",
       "    </tr>\n",
       "    <tr>\n",
       "      <th>2</th>\n",
       "      <td>T-Mobile Park</td>\n",
       "      <td>10</td>\n",
       "    </tr>\n",
       "    <tr>\n",
       "      <th>3</th>\n",
       "      <td>loanDepot park</td>\n",
       "      <td>10</td>\n",
       "    </tr>\n",
       "    <tr>\n",
       "      <th>4</th>\n",
       "      <td>Citi Field</td>\n",
       "      <td>10</td>\n",
       "    </tr>\n",
       "  </tbody>\n",
       "</table>\n",
       "</div>"
      ],
      "text/plain": [
       "         venue_name elevation_feet\n",
       "0       Oracle Park              0\n",
       "1  Oakland Coliseum              3\n",
       "2     T-Mobile Park             10\n",
       "3    loanDepot park             10\n",
       "4        Citi Field             10"
      ]
     },
     "execution_count": 111,
     "metadata": {},
     "output_type": "execute_result"
    }
   ],
   "source": [
    "baseball_savant_table_cleaned = baseball_savant_table[['venue_name','elevation_feet']]\n",
    "baseball_savant_table_cleaned.head()"
   ]
  },
  {
   "cell_type": "markdown",
   "metadata": {},
   "source": [
    "The table is almost ready for analysis. We are only missing elevation data for 5 stadiums where games were played that were not normal stadiums more neutral site fields for special circumstances"
   ]
  },
  {
   "cell_type": "markdown",
   "metadata": {},
   "source": [
    "Using the [Open-Elevation API](https://open-elevation.com/), a free open source elevation API, we can find the precise elevation measurements for our missing stadiums using their latitude and longitudes"
   ]
  },
  {
   "cell_type": "code",
   "execution_count": 112,
   "metadata": {},
   "outputs": [],
   "source": [
    "elevations = requests.get('https://api.open-elevation.com/api/v1/lookup?locations=37.49811648014713,'\n",
    "                     '126.86695990262396|19.403623852418008, -99.08533451111214|'\n",
    "                     '33.50239299802912, -86.85599604894975|'\n",
    "                     '41.2421914268545, -77.0472316775007|'\n",
    "                     '51.53862108628318, -0.016491888689209214|').json()"
   ]
  },
  {
   "cell_type": "code",
   "execution_count": 113,
   "metadata": {},
   "outputs": [
    {
     "data": {
      "text/html": [
       "<div>\n",
       "<style scoped>\n",
       "    .dataframe tbody tr th:only-of-type {\n",
       "        vertical-align: middle;\n",
       "    }\n",
       "\n",
       "    .dataframe tbody tr th {\n",
       "        vertical-align: top;\n",
       "    }\n",
       "\n",
       "    .dataframe thead th {\n",
       "        text-align: right;\n",
       "    }\n",
       "</style>\n",
       "<table border=\"1\" class=\"dataframe\">\n",
       "  <thead>\n",
       "    <tr style=\"text-align: right;\">\n",
       "      <th></th>\n",
       "      <th>elevation</th>\n",
       "      <th>longitude</th>\n",
       "      <th>latitude</th>\n",
       "    </tr>\n",
       "  </thead>\n",
       "  <tbody>\n",
       "    <tr>\n",
       "      <th>0</th>\n",
       "      <td>14.0</td>\n",
       "      <td>126.866960</td>\n",
       "      <td>37.498116</td>\n",
       "    </tr>\n",
       "    <tr>\n",
       "      <th>1</th>\n",
       "      <td>2238.0</td>\n",
       "      <td>-99.085335</td>\n",
       "      <td>19.403624</td>\n",
       "    </tr>\n",
       "    <tr>\n",
       "      <th>2</th>\n",
       "      <td>170.0</td>\n",
       "      <td>-86.855996</td>\n",
       "      <td>33.502393</td>\n",
       "    </tr>\n",
       "    <tr>\n",
       "      <th>3</th>\n",
       "      <td>158.0</td>\n",
       "      <td>-77.047232</td>\n",
       "      <td>41.242191</td>\n",
       "    </tr>\n",
       "    <tr>\n",
       "      <th>4</th>\n",
       "      <td>14.0</td>\n",
       "      <td>-0.016492</td>\n",
       "      <td>51.538621</td>\n",
       "    </tr>\n",
       "  </tbody>\n",
       "</table>\n",
       "</div>"
      ],
      "text/plain": [
       "   elevation   longitude   latitude\n",
       "0       14.0  126.866960  37.498116\n",
       "1     2238.0  -99.085335  19.403624\n",
       "2      170.0  -86.855996  33.502393\n",
       "3      158.0  -77.047232  41.242191\n",
       "4       14.0   -0.016492  51.538621"
      ]
     },
     "execution_count": 113,
     "metadata": {},
     "output_type": "execute_result"
    }
   ],
   "source": [
    "# Turning the json payload into a df\n",
    "\n",
    "elevations_df = json_normalize(elevations, record_path = 'results')\n",
    "elevations_df"
   ]
  },
  {
   "cell_type": "code",
   "execution_count": 114,
   "metadata": {},
   "outputs": [],
   "source": [
    "# Adding column with more identifiable venue names\n",
    "\n",
    "elevations_df['venue_name'] = ['Gocheok Sky Dome', 'Estadio Alfredo Harp Helú', 'Rickwood Field', 'Bowman Field', 'London Stadium']"
   ]
  },
  {
   "cell_type": "markdown",
   "metadata": {},
   "source": [
    "The elevation measurements are recored in meters so we will have to convert it to feet to keep our measurments consistent"
   ]
  },
  {
   "cell_type": "code",
   "execution_count": 115,
   "metadata": {},
   "outputs": [],
   "source": [
    "elevations_df['elevation_feet'] = round((elevations_df['elevation'] * 3.281), 0).astype(int)"
   ]
  },
  {
   "cell_type": "markdown",
   "metadata": {},
   "source": [
    "Now we can clean this dataframe down to only the relavant information"
   ]
  },
  {
   "cell_type": "code",
   "execution_count": 116,
   "metadata": {},
   "outputs": [],
   "source": [
    "elevations_df_clean = elevations_df[['venue_name', 'elevation_feet']]"
   ]
  },
  {
   "cell_type": "markdown",
   "metadata": {},
   "source": [
    "Lastly we will add the extra elevation data to our existing elevation table from baseball savant"
   ]
  },
  {
   "cell_type": "code",
   "execution_count": 117,
   "metadata": {},
   "outputs": [
    {
     "data": {
      "text/html": [
       "<div>\n",
       "<style scoped>\n",
       "    .dataframe tbody tr th:only-of-type {\n",
       "        vertical-align: middle;\n",
       "    }\n",
       "\n",
       "    .dataframe tbody tr th {\n",
       "        vertical-align: top;\n",
       "    }\n",
       "\n",
       "    .dataframe thead th {\n",
       "        text-align: right;\n",
       "    }\n",
       "</style>\n",
       "<table border=\"1\" class=\"dataframe\">\n",
       "  <thead>\n",
       "    <tr style=\"text-align: right;\">\n",
       "      <th></th>\n",
       "      <th>venue_name</th>\n",
       "      <th>elevation_feet</th>\n",
       "    </tr>\n",
       "  </thead>\n",
       "  <tbody>\n",
       "    <tr>\n",
       "      <th>0</th>\n",
       "      <td>Oracle Park</td>\n",
       "      <td>0</td>\n",
       "    </tr>\n",
       "    <tr>\n",
       "      <th>1</th>\n",
       "      <td>Oakland Coliseum</td>\n",
       "      <td>3</td>\n",
       "    </tr>\n",
       "    <tr>\n",
       "      <th>2</th>\n",
       "      <td>T-Mobile Park</td>\n",
       "      <td>10</td>\n",
       "    </tr>\n",
       "    <tr>\n",
       "      <th>3</th>\n",
       "      <td>loanDepot park</td>\n",
       "      <td>10</td>\n",
       "    </tr>\n",
       "    <tr>\n",
       "      <th>4</th>\n",
       "      <td>Citi Field</td>\n",
       "      <td>10</td>\n",
       "    </tr>\n",
       "  </tbody>\n",
       "</table>\n",
       "</div>"
      ],
      "text/plain": [
       "         venue_name elevation_feet\n",
       "0       Oracle Park              0\n",
       "1  Oakland Coliseum              3\n",
       "2     T-Mobile Park             10\n",
       "3    loanDepot park             10\n",
       "4        Citi Field             10"
      ]
     },
     "execution_count": 117,
     "metadata": {},
     "output_type": "execute_result"
    }
   ],
   "source": [
    "all_elevations_df = pd.concat([baseball_savant_table_cleaned, elevations_df_clean], ignore_index=True)\n",
    "all_elevations_df.head()"
   ]
  },
  {
   "cell_type": "code",
   "execution_count": 118,
   "metadata": {},
   "outputs": [],
   "source": [
    "# Changing elevation measurements from type object to tyep int\n",
    "\n",
    "all_elevations_df['elevation_feet'] = all_elevations_df['elevation_feet'].astype(int)"
   ]
  },
  {
   "cell_type": "code",
   "execution_count": 119,
   "metadata": {},
   "outputs": [
    {
     "data": {
      "text/html": [
       "<div>\n",
       "<style scoped>\n",
       "    .dataframe tbody tr th:only-of-type {\n",
       "        vertical-align: middle;\n",
       "    }\n",
       "\n",
       "    .dataframe tbody tr th {\n",
       "        vertical-align: top;\n",
       "    }\n",
       "\n",
       "    .dataframe thead th {\n",
       "        text-align: right;\n",
       "    }\n",
       "</style>\n",
       "<table border=\"1\" class=\"dataframe\">\n",
       "  <thead>\n",
       "    <tr style=\"text-align: right;\">\n",
       "      <th></th>\n",
       "      <th>elevation_feet</th>\n",
       "    </tr>\n",
       "  </thead>\n",
       "  <tbody>\n",
       "    <tr>\n",
       "      <th>count</th>\n",
       "      <td>35.00</td>\n",
       "    </tr>\n",
       "    <tr>\n",
       "      <th>mean</th>\n",
       "      <td>686.71</td>\n",
       "    </tr>\n",
       "    <tr>\n",
       "      <th>std</th>\n",
       "      <td>1456.60</td>\n",
       "    </tr>\n",
       "    <tr>\n",
       "      <th>min</th>\n",
       "      <td>0.00</td>\n",
       "    </tr>\n",
       "    <tr>\n",
       "      <th>25%</th>\n",
       "      <td>28.00</td>\n",
       "    </tr>\n",
       "    <tr>\n",
       "      <th>50%</th>\n",
       "      <td>460.00</td>\n",
       "    </tr>\n",
       "    <tr>\n",
       "      <th>75%</th>\n",
       "      <td>598.50</td>\n",
       "    </tr>\n",
       "    <tr>\n",
       "      <th>max</th>\n",
       "      <td>7343.00</td>\n",
       "    </tr>\n",
       "  </tbody>\n",
       "</table>\n",
       "</div>"
      ],
      "text/plain": [
       "       elevation_feet\n",
       "count           35.00\n",
       "mean           686.71\n",
       "std           1456.60\n",
       "min              0.00\n",
       "25%             28.00\n",
       "50%            460.00\n",
       "75%            598.50\n",
       "max           7343.00"
      ]
     },
     "execution_count": 119,
     "metadata": {},
     "output_type": "execute_result"
    }
   ],
   "source": [
    "# Summary Statistics\n",
    "\n",
    "all_elevations_df.describe().round(2)"
   ]
  },
  {
   "cell_type": "markdown",
   "metadata": {},
   "source": [
    "## Exploratory Data Analysis"
   ]
  },
  {
   "cell_type": "markdown",
   "metadata": {},
   "source": [
    "I am excited to get to some analysis with the elevation data so that will be the first thing we will explore."
   ]
  },
  {
   "cell_type": "markdown",
   "metadata": {},
   "source": [
    "First I will need to combine our datasets for elevation with our datasets that contain the team statistics. I will do that by creating a dictionary of the site values that need to be mapped to the name of their corresponding stadium."
   ]
  },
  {
   "cell_type": "code",
   "execution_count": 120,
   "metadata": {},
   "outputs": [],
   "source": [
    "park_id_to_venue = {\n",
    "    'SEO01': 'Gocheok Sky Dome',\n",
    "    'PHO01': 'Chase Field',\n",
    "    'BAL12': 'Oriole Park at Camden Yards',\n",
    "    'CHI12': 'Rate Field',\n",
    "    'CIN09': 'Great American Ball Park',\n",
    "    'HOU03': 'Daikin Park',\n",
    "    'KAN06': 'Kauffman Stadium',\n",
    "    'LOS03': 'Dodger Stadium',\n",
    "    'MIA02': 'loanDepot park',\n",
    "    'OAK01': 'Oakland Coliseum',\n",
    "    'SAN02': 'Petco Park',\n",
    "    'SEA03': 'T-Mobile Park',\n",
    "    'STP01': 'Tropicana Field',\n",
    "    'ARL03': 'Globe Life Field',\n",
    "    'NYC21': 'Yankee Stadium',\n",
    "    'PHI13': 'Citizens Bank Park',\n",
    "    'CHI11': 'Wrigley Field',\n",
    "    'WAS11': 'Nationals Park',\n",
    "    'MIL06': 'American Family Field',\n",
    "    'MIN04': 'Target Field',\n",
    "    'STL10': 'Busch Stadium',\n",
    "    'ANA01': 'Angel Stadium',\n",
    "    'ATL03': 'Truist Park',\n",
    "    'DEN02': 'Coors Field',\n",
    "    'DET05': 'Comerica Park',\n",
    "    'NYC20': 'Citi Field',\n",
    "    'PIT08': 'PNC Park',\n",
    "    'SFO03': 'Oracle Park',\n",
    "    'CLE08': 'Progressive Field',\n",
    "    'TOR02': 'Rogers Centre',\n",
    "    'BOS07': 'Fenway Park',\n",
    "    'MEX02': 'Estadio Alfredo Harp Helú',\n",
    "    'LON01': 'London Stadium',\n",
    "    'BIR01': 'Rickwood Field',\n",
    "    'WIL02': 'Bowman Field'\n",
    "}\n"
   ]
  },
  {
   "cell_type": "code",
   "execution_count": 121,
   "metadata": {},
   "outputs": [
    {
     "name": "stderr",
     "output_type": "stream",
     "text": [
      "/var/folders/pm/9vt22q8n1492gdz77qj4fnm00000gp/T/ipykernel_44536/4072844890.py:1: SettingWithCopyWarning:\n",
      "\n",
      "\n",
      "A value is trying to be set on a copy of a slice from a DataFrame.\n",
      "Try using .loc[row_indexer,col_indexer] = value instead\n",
      "\n",
      "See the caveats in the documentation: https://pandas.pydata.org/pandas-docs/stable/user_guide/indexing.html#returning-a-view-versus-a-copy\n",
      "\n"
     ]
    },
    {
     "data": {
      "text/html": [
       "<div>\n",
       "<style scoped>\n",
       "    .dataframe tbody tr th:only-of-type {\n",
       "        vertical-align: middle;\n",
       "    }\n",
       "\n",
       "    .dataframe tbody tr th {\n",
       "        vertical-align: top;\n",
       "    }\n",
       "\n",
       "    .dataframe thead th {\n",
       "        text-align: right;\n",
       "    }\n",
       "</style>\n",
       "<table border=\"1\" class=\"dataframe\">\n",
       "  <thead>\n",
       "    <tr style=\"text-align: right;\">\n",
       "      <th></th>\n",
       "      <th>Date</th>\n",
       "      <th>Park ID</th>\n",
       "      <th>VT At-Bats</th>\n",
       "      <th>VT Hits</th>\n",
       "      <th>VT Doubles</th>\n",
       "      <th>VT Triples</th>\n",
       "      <th>VT Home Runs</th>\n",
       "      <th>HT At-Bats</th>\n",
       "      <th>HT Hits</th>\n",
       "      <th>HT Doubles</th>\n",
       "      <th>HT Triples</th>\n",
       "      <th>HT Home Runs</th>\n",
       "      <th>venue_name</th>\n",
       "    </tr>\n",
       "  </thead>\n",
       "  <tbody>\n",
       "    <tr>\n",
       "      <th>0</th>\n",
       "      <td>2024-03-20</td>\n",
       "      <td>SEO01</td>\n",
       "      <td>33</td>\n",
       "      <td>7</td>\n",
       "      <td>0</td>\n",
       "      <td>0</td>\n",
       "      <td>0</td>\n",
       "      <td>30</td>\n",
       "      <td>4</td>\n",
       "      <td>0</td>\n",
       "      <td>0</td>\n",
       "      <td>0</td>\n",
       "      <td>Gocheok Sky Dome</td>\n",
       "    </tr>\n",
       "    <tr>\n",
       "      <th>1</th>\n",
       "      <td>2024-03-21</td>\n",
       "      <td>SEO01</td>\n",
       "      <td>43</td>\n",
       "      <td>18</td>\n",
       "      <td>3</td>\n",
       "      <td>1</td>\n",
       "      <td>1</td>\n",
       "      <td>42</td>\n",
       "      <td>16</td>\n",
       "      <td>3</td>\n",
       "      <td>0</td>\n",
       "      <td>1</td>\n",
       "      <td>Gocheok Sky Dome</td>\n",
       "    </tr>\n",
       "    <tr>\n",
       "      <th>2</th>\n",
       "      <td>2024-03-28</td>\n",
       "      <td>PHO01</td>\n",
       "      <td>30</td>\n",
       "      <td>4</td>\n",
       "      <td>2</td>\n",
       "      <td>0</td>\n",
       "      <td>0</td>\n",
       "      <td>40</td>\n",
       "      <td>18</td>\n",
       "      <td>3</td>\n",
       "      <td>0</td>\n",
       "      <td>1</td>\n",
       "      <td>Chase Field</td>\n",
       "    </tr>\n",
       "    <tr>\n",
       "      <th>3</th>\n",
       "      <td>2024-03-28</td>\n",
       "      <td>CIN09</td>\n",
       "      <td>32</td>\n",
       "      <td>6</td>\n",
       "      <td>0</td>\n",
       "      <td>0</td>\n",
       "      <td>1</td>\n",
       "      <td>34</td>\n",
       "      <td>10</td>\n",
       "      <td>3</td>\n",
       "      <td>0</td>\n",
       "      <td>2</td>\n",
       "      <td>Great American Ball Park</td>\n",
       "    </tr>\n",
       "    <tr>\n",
       "      <th>4</th>\n",
       "      <td>2024-03-28</td>\n",
       "      <td>LOS03</td>\n",
       "      <td>31</td>\n",
       "      <td>3</td>\n",
       "      <td>0</td>\n",
       "      <td>0</td>\n",
       "      <td>1</td>\n",
       "      <td>31</td>\n",
       "      <td>10</td>\n",
       "      <td>2</td>\n",
       "      <td>0</td>\n",
       "      <td>2</td>\n",
       "      <td>Dodger Stadium</td>\n",
       "    </tr>\n",
       "  </tbody>\n",
       "</table>\n",
       "</div>"
      ],
      "text/plain": [
       "        Date Park ID  VT At-Bats  VT Hits  VT Doubles  VT Triples  \\\n",
       "0 2024-03-20   SEO01          33        7           0           0   \n",
       "1 2024-03-21   SEO01          43       18           3           1   \n",
       "2 2024-03-28   PHO01          30        4           2           0   \n",
       "3 2024-03-28   CIN09          32        6           0           0   \n",
       "4 2024-03-28   LOS03          31        3           0           0   \n",
       "\n",
       "   VT Home Runs  HT At-Bats  HT Hits  HT Doubles  HT Triples  HT Home Runs  \\\n",
       "0             0          30        4           0           0             0   \n",
       "1             1          42       16           3           0             1   \n",
       "2             0          40       18           3           0             1   \n",
       "3             1          34       10           3           0             2   \n",
       "4             1          31       10           2           0             2   \n",
       "\n",
       "                 venue_name  \n",
       "0          Gocheok Sky Dome  \n",
       "1          Gocheok Sky Dome  \n",
       "2               Chase Field  \n",
       "3  Great American Ball Park  \n",
       "4            Dodger Stadium  "
      ]
     },
     "execution_count": 121,
     "metadata": {},
     "output_type": "execute_result"
    }
   ],
   "source": [
    "mlb_stats_2024['venue_name'] = mlb_stats_2024['Park ID'].map(park_id_to_venue)\n",
    "mlb_stats_2024.head()"
   ]
  },
  {
   "cell_type": "markdown",
   "metadata": {},
   "source": [
    "Now I want to look at the total home runs hit across all MLB stadiums so I will add the two columns VT Home Runs and HT Home Runs together to create a total home run column for each game"
   ]
  },
  {
   "cell_type": "code",
   "execution_count": 122,
   "metadata": {},
   "outputs": [
    {
     "name": "stderr",
     "output_type": "stream",
     "text": [
      "/var/folders/pm/9vt22q8n1492gdz77qj4fnm00000gp/T/ipykernel_44536/593010731.py:1: SettingWithCopyWarning:\n",
      "\n",
      "\n",
      "A value is trying to be set on a copy of a slice from a DataFrame.\n",
      "Try using .loc[row_indexer,col_indexer] = value instead\n",
      "\n",
      "See the caveats in the documentation: https://pandas.pydata.org/pandas-docs/stable/user_guide/indexing.html#returning-a-view-versus-a-copy\n",
      "\n"
     ]
    }
   ],
   "source": [
    "mlb_stats_2024['Total Home Runs'] = mlb_stats_2024['VT Home Runs'] + mlb_stats_2024['HT Home Runs']"
   ]
  },
  {
   "cell_type": "markdown",
   "metadata": {},
   "source": [
    "Now that we have the total home runs hit for each game we will take the sum of all home runs hit grouped by stadium to see how the totals vary across each park"
   ]
  },
  {
   "cell_type": "code",
   "execution_count": 123,
   "metadata": {},
   "outputs": [
    {
     "data": {
      "text/html": [
       "<div>\n",
       "<style scoped>\n",
       "    .dataframe tbody tr th:only-of-type {\n",
       "        vertical-align: middle;\n",
       "    }\n",
       "\n",
       "    .dataframe tbody tr th {\n",
       "        vertical-align: top;\n",
       "    }\n",
       "\n",
       "    .dataframe thead th {\n",
       "        text-align: right;\n",
       "    }\n",
       "</style>\n",
       "<table border=\"1\" class=\"dataframe\">\n",
       "  <thead>\n",
       "    <tr style=\"text-align: right;\">\n",
       "      <th></th>\n",
       "      <th>venue_name</th>\n",
       "      <th>Total Home Runs</th>\n",
       "    </tr>\n",
       "  </thead>\n",
       "  <tbody>\n",
       "    <tr>\n",
       "      <th>0</th>\n",
       "      <td>American Family Field</td>\n",
       "      <td>197</td>\n",
       "    </tr>\n",
       "    <tr>\n",
       "      <th>1</th>\n",
       "      <td>Angel Stadium</td>\n",
       "      <td>197</td>\n",
       "    </tr>\n",
       "    <tr>\n",
       "      <th>2</th>\n",
       "      <td>Bowman Field</td>\n",
       "      <td>0</td>\n",
       "    </tr>\n",
       "    <tr>\n",
       "      <th>3</th>\n",
       "      <td>Busch Stadium</td>\n",
       "      <td>148</td>\n",
       "    </tr>\n",
       "    <tr>\n",
       "      <th>4</th>\n",
       "      <td>Chase Field</td>\n",
       "      <td>180</td>\n",
       "    </tr>\n",
       "  </tbody>\n",
       "</table>\n",
       "</div>"
      ],
      "text/plain": [
       "              venue_name  Total Home Runs\n",
       "0  American Family Field              197\n",
       "1          Angel Stadium              197\n",
       "2           Bowman Field                0\n",
       "3          Busch Stadium              148\n",
       "4            Chase Field              180"
      ]
     },
     "execution_count": 123,
     "metadata": {},
     "output_type": "execute_result"
    }
   ],
   "source": [
    "home_runs_by_stadium = mlb_stats_2024.groupby('venue_name')['Total Home Runs'].sum().reset_index()\n",
    "home_runs_by_stadium.head()"
   ]
  },
  {
   "cell_type": "markdown",
   "metadata": {},
   "source": [
    "Now we just have to add the elevation data to our new table. We are going to do this by merging the elevation_feet column from our existing all_elevations_df table to the new home_runs_by_stadium table. Because the two venue_name columns are identical we don't have to specify what type of join. "
   ]
  },
  {
   "cell_type": "code",
   "execution_count": 124,
   "metadata": {},
   "outputs": [
    {
     "data": {
      "text/html": [
       "<div>\n",
       "<style scoped>\n",
       "    .dataframe tbody tr th:only-of-type {\n",
       "        vertical-align: middle;\n",
       "    }\n",
       "\n",
       "    .dataframe tbody tr th {\n",
       "        vertical-align: top;\n",
       "    }\n",
       "\n",
       "    .dataframe thead th {\n",
       "        text-align: right;\n",
       "    }\n",
       "</style>\n",
       "<table border=\"1\" class=\"dataframe\">\n",
       "  <thead>\n",
       "    <tr style=\"text-align: right;\">\n",
       "      <th></th>\n",
       "      <th>venue_name</th>\n",
       "      <th>Total Home Runs</th>\n",
       "      <th>elevation_feet</th>\n",
       "    </tr>\n",
       "  </thead>\n",
       "  <tbody>\n",
       "    <tr>\n",
       "      <th>0</th>\n",
       "      <td>American Family Field</td>\n",
       "      <td>197</td>\n",
       "      <td>597</td>\n",
       "    </tr>\n",
       "    <tr>\n",
       "      <th>1</th>\n",
       "      <td>Angel Stadium</td>\n",
       "      <td>197</td>\n",
       "      <td>151</td>\n",
       "    </tr>\n",
       "    <tr>\n",
       "      <th>2</th>\n",
       "      <td>Bowman Field</td>\n",
       "      <td>0</td>\n",
       "      <td>518</td>\n",
       "    </tr>\n",
       "    <tr>\n",
       "      <th>3</th>\n",
       "      <td>Busch Stadium</td>\n",
       "      <td>148</td>\n",
       "      <td>460</td>\n",
       "    </tr>\n",
       "    <tr>\n",
       "      <th>4</th>\n",
       "      <td>Chase Field</td>\n",
       "      <td>180</td>\n",
       "      <td>1086</td>\n",
       "    </tr>\n",
       "  </tbody>\n",
       "</table>\n",
       "</div>"
      ],
      "text/plain": [
       "              venue_name  Total Home Runs  elevation_feet\n",
       "0  American Family Field              197             597\n",
       "1          Angel Stadium              197             151\n",
       "2           Bowman Field                0             518\n",
       "3          Busch Stadium              148             460\n",
       "4            Chase Field              180            1086"
      ]
     },
     "execution_count": 124,
     "metadata": {},
     "output_type": "execute_result"
    }
   ],
   "source": [
    "home_runs_by_stadium = pd.merge(home_runs_by_stadium, all_elevations_df[['venue_name', 'elevation_feet']],\n",
    "                  on='venue_name')\n",
    "\n",
    "home_runs_by_stadium.head()"
   ]
  },
  {
   "cell_type": "markdown",
   "metadata": {},
   "source": [
    "Now we will construct our visualization of the total home runs hit across each MLB stadium while looking at their elevation levels to see if there is any patterns that can be drawn from higher or lower elevation stadiums."
   ]
  },
  {
   "cell_type": "code",
   "execution_count": 125,
   "metadata": {},
   "outputs": [
    {
     "data": {
      "application/vnd.plotly.v1+json": {
       "config": {
        "plotlyServerURL": "https://plot.ly"
       },
       "data": [
        {
         "hovertemplate": "Home Runs=%{x}<br>Stadium=%{y}<br>Elevation (ft)=%{marker.color}<extra></extra>",
         "legendgroup": "",
         "marker": {
          "color": {
           "bdata": "BgIuAi4ALgCvHAAAWAPMAVMCAwBYAiMA6QMMAwoAUwIPABUADgEKAD4EIQKNAgoAlwBVAkYUFAAhAC8DFwAtABcCAwI3AA==",
           "dtype": "i2"
          },
          "coloraxis": "coloraxis",
          "pattern": {
           "shape": ""
          }
         },
         "name": "",
         "orientation": "h",
         "showlegend": false,
         "textposition": "auto",
         "type": "bar",
         "x": {
          "bdata": "AAACAAIABAAHAIgAkwCUAJkAnACdAJ8AogCjAKUApQCuAK8AtAC0ALQAuAC6AMAAxQDFAMcAxwDKAMoAzwDSANYA3wDiAA==",
          "dtype": "i2"
         },
         "xaxis": "x",
         "y": [
          "Bowman Field",
          "Rickwood Field",
          "Gocheok Sky Dome",
          "London Stadium",
          "Estadio Alfredo Harp Helú",
          "Oracle Park",
          "Kauffman Stadium",
          "Busch Stadium",
          "Wrigley Field",
          "Oakland Coliseum",
          "Comerica Park",
          "Nationals Park",
          "Truist Park",
          "PNC Park",
          "T-Mobile Park",
          "Rate Field",
          "Tropicana Field",
          "Fenway Park",
          "Rogers Centre",
          "loanDepot park",
          "Chase Field",
          "Globe Life Field",
          "Progressive Field",
          "Citi Field",
          "Angel Stadium",
          "American Family Field",
          "Coors Field",
          "Citizens Bank Park",
          "Oriole Park at Camden Yards",
          "Target Field",
          "Petco Park",
          "Daikin Park",
          "Great American Ball Park",
          "Dodger Stadium",
          "Yankee Stadium"
         ],
         "yaxis": "y"
        }
       ],
       "layout": {
        "barmode": "relative",
        "coloraxis": {
         "cmax": 1500,
         "cmin": 0,
         "colorbar": {
          "title": {
           "text": "Elevation (ft)"
          }
         },
         "colorscale": [
          [
           0,
           "rgb(165,0,38)"
          ],
          [
           0.1,
           "rgb(215,48,39)"
          ],
          [
           0.2,
           "rgb(244,109,67)"
          ],
          [
           0.3,
           "rgb(253,174,97)"
          ],
          [
           0.4,
           "rgb(254,224,139)"
          ],
          [
           0.5,
           "rgb(255,255,191)"
          ],
          [
           0.6,
           "rgb(217,239,139)"
          ],
          [
           0.7,
           "rgb(166,217,106)"
          ],
          [
           0.8,
           "rgb(102,189,99)"
          ],
          [
           0.9,
           "rgb(26,152,80)"
          ],
          [
           1,
           "rgb(0,104,55)"
          ]
         ]
        },
        "height": 600,
        "legend": {
         "tracegroupgap": 0
        },
        "template": {
         "data": {
          "bar": [
           {
            "error_x": {
             "color": "#2a3f5f"
            },
            "error_y": {
             "color": "#2a3f5f"
            },
            "marker": {
             "line": {
              "color": "#E5ECF6",
              "width": 0.5
             },
             "pattern": {
              "fillmode": "overlay",
              "size": 10,
              "solidity": 0.2
             }
            },
            "type": "bar"
           }
          ],
          "barpolar": [
           {
            "marker": {
             "line": {
              "color": "#E5ECF6",
              "width": 0.5
             },
             "pattern": {
              "fillmode": "overlay",
              "size": 10,
              "solidity": 0.2
             }
            },
            "type": "barpolar"
           }
          ],
          "carpet": [
           {
            "aaxis": {
             "endlinecolor": "#2a3f5f",
             "gridcolor": "white",
             "linecolor": "white",
             "minorgridcolor": "white",
             "startlinecolor": "#2a3f5f"
            },
            "baxis": {
             "endlinecolor": "#2a3f5f",
             "gridcolor": "white",
             "linecolor": "white",
             "minorgridcolor": "white",
             "startlinecolor": "#2a3f5f"
            },
            "type": "carpet"
           }
          ],
          "choropleth": [
           {
            "colorbar": {
             "outlinewidth": 0,
             "ticks": ""
            },
            "type": "choropleth"
           }
          ],
          "contour": [
           {
            "colorbar": {
             "outlinewidth": 0,
             "ticks": ""
            },
            "colorscale": [
             [
              0,
              "#0d0887"
             ],
             [
              0.1111111111111111,
              "#46039f"
             ],
             [
              0.2222222222222222,
              "#7201a8"
             ],
             [
              0.3333333333333333,
              "#9c179e"
             ],
             [
              0.4444444444444444,
              "#bd3786"
             ],
             [
              0.5555555555555556,
              "#d8576b"
             ],
             [
              0.6666666666666666,
              "#ed7953"
             ],
             [
              0.7777777777777778,
              "#fb9f3a"
             ],
             [
              0.8888888888888888,
              "#fdca26"
             ],
             [
              1,
              "#f0f921"
             ]
            ],
            "type": "contour"
           }
          ],
          "contourcarpet": [
           {
            "colorbar": {
             "outlinewidth": 0,
             "ticks": ""
            },
            "type": "contourcarpet"
           }
          ],
          "heatmap": [
           {
            "colorbar": {
             "outlinewidth": 0,
             "ticks": ""
            },
            "colorscale": [
             [
              0,
              "#0d0887"
             ],
             [
              0.1111111111111111,
              "#46039f"
             ],
             [
              0.2222222222222222,
              "#7201a8"
             ],
             [
              0.3333333333333333,
              "#9c179e"
             ],
             [
              0.4444444444444444,
              "#bd3786"
             ],
             [
              0.5555555555555556,
              "#d8576b"
             ],
             [
              0.6666666666666666,
              "#ed7953"
             ],
             [
              0.7777777777777778,
              "#fb9f3a"
             ],
             [
              0.8888888888888888,
              "#fdca26"
             ],
             [
              1,
              "#f0f921"
             ]
            ],
            "type": "heatmap"
           }
          ],
          "histogram": [
           {
            "marker": {
             "pattern": {
              "fillmode": "overlay",
              "size": 10,
              "solidity": 0.2
             }
            },
            "type": "histogram"
           }
          ],
          "histogram2d": [
           {
            "colorbar": {
             "outlinewidth": 0,
             "ticks": ""
            },
            "colorscale": [
             [
              0,
              "#0d0887"
             ],
             [
              0.1111111111111111,
              "#46039f"
             ],
             [
              0.2222222222222222,
              "#7201a8"
             ],
             [
              0.3333333333333333,
              "#9c179e"
             ],
             [
              0.4444444444444444,
              "#bd3786"
             ],
             [
              0.5555555555555556,
              "#d8576b"
             ],
             [
              0.6666666666666666,
              "#ed7953"
             ],
             [
              0.7777777777777778,
              "#fb9f3a"
             ],
             [
              0.8888888888888888,
              "#fdca26"
             ],
             [
              1,
              "#f0f921"
             ]
            ],
            "type": "histogram2d"
           }
          ],
          "histogram2dcontour": [
           {
            "colorbar": {
             "outlinewidth": 0,
             "ticks": ""
            },
            "colorscale": [
             [
              0,
              "#0d0887"
             ],
             [
              0.1111111111111111,
              "#46039f"
             ],
             [
              0.2222222222222222,
              "#7201a8"
             ],
             [
              0.3333333333333333,
              "#9c179e"
             ],
             [
              0.4444444444444444,
              "#bd3786"
             ],
             [
              0.5555555555555556,
              "#d8576b"
             ],
             [
              0.6666666666666666,
              "#ed7953"
             ],
             [
              0.7777777777777778,
              "#fb9f3a"
             ],
             [
              0.8888888888888888,
              "#fdca26"
             ],
             [
              1,
              "#f0f921"
             ]
            ],
            "type": "histogram2dcontour"
           }
          ],
          "mesh3d": [
           {
            "colorbar": {
             "outlinewidth": 0,
             "ticks": ""
            },
            "type": "mesh3d"
           }
          ],
          "parcoords": [
           {
            "line": {
             "colorbar": {
              "outlinewidth": 0,
              "ticks": ""
             }
            },
            "type": "parcoords"
           }
          ],
          "pie": [
           {
            "automargin": true,
            "type": "pie"
           }
          ],
          "scatter": [
           {
            "fillpattern": {
             "fillmode": "overlay",
             "size": 10,
             "solidity": 0.2
            },
            "type": "scatter"
           }
          ],
          "scatter3d": [
           {
            "line": {
             "colorbar": {
              "outlinewidth": 0,
              "ticks": ""
             }
            },
            "marker": {
             "colorbar": {
              "outlinewidth": 0,
              "ticks": ""
             }
            },
            "type": "scatter3d"
           }
          ],
          "scattercarpet": [
           {
            "marker": {
             "colorbar": {
              "outlinewidth": 0,
              "ticks": ""
             }
            },
            "type": "scattercarpet"
           }
          ],
          "scattergeo": [
           {
            "marker": {
             "colorbar": {
              "outlinewidth": 0,
              "ticks": ""
             }
            },
            "type": "scattergeo"
           }
          ],
          "scattergl": [
           {
            "marker": {
             "colorbar": {
              "outlinewidth": 0,
              "ticks": ""
             }
            },
            "type": "scattergl"
           }
          ],
          "scattermap": [
           {
            "marker": {
             "colorbar": {
              "outlinewidth": 0,
              "ticks": ""
             }
            },
            "type": "scattermap"
           }
          ],
          "scattermapbox": [
           {
            "marker": {
             "colorbar": {
              "outlinewidth": 0,
              "ticks": ""
             }
            },
            "type": "scattermapbox"
           }
          ],
          "scatterpolar": [
           {
            "marker": {
             "colorbar": {
              "outlinewidth": 0,
              "ticks": ""
             }
            },
            "type": "scatterpolar"
           }
          ],
          "scatterpolargl": [
           {
            "marker": {
             "colorbar": {
              "outlinewidth": 0,
              "ticks": ""
             }
            },
            "type": "scatterpolargl"
           }
          ],
          "scatterternary": [
           {
            "marker": {
             "colorbar": {
              "outlinewidth": 0,
              "ticks": ""
             }
            },
            "type": "scatterternary"
           }
          ],
          "surface": [
           {
            "colorbar": {
             "outlinewidth": 0,
             "ticks": ""
            },
            "colorscale": [
             [
              0,
              "#0d0887"
             ],
             [
              0.1111111111111111,
              "#46039f"
             ],
             [
              0.2222222222222222,
              "#7201a8"
             ],
             [
              0.3333333333333333,
              "#9c179e"
             ],
             [
              0.4444444444444444,
              "#bd3786"
             ],
             [
              0.5555555555555556,
              "#d8576b"
             ],
             [
              0.6666666666666666,
              "#ed7953"
             ],
             [
              0.7777777777777778,
              "#fb9f3a"
             ],
             [
              0.8888888888888888,
              "#fdca26"
             ],
             [
              1,
              "#f0f921"
             ]
            ],
            "type": "surface"
           }
          ],
          "table": [
           {
            "cells": {
             "fill": {
              "color": "#EBF0F8"
             },
             "line": {
              "color": "white"
             }
            },
            "header": {
             "fill": {
              "color": "#C8D4E3"
             },
             "line": {
              "color": "white"
             }
            },
            "type": "table"
           }
          ]
         },
         "layout": {
          "annotationdefaults": {
           "arrowcolor": "#2a3f5f",
           "arrowhead": 0,
           "arrowwidth": 1
          },
          "autotypenumbers": "strict",
          "coloraxis": {
           "colorbar": {
            "outlinewidth": 0,
            "ticks": ""
           }
          },
          "colorscale": {
           "diverging": [
            [
             0,
             "#8e0152"
            ],
            [
             0.1,
             "#c51b7d"
            ],
            [
             0.2,
             "#de77ae"
            ],
            [
             0.3,
             "#f1b6da"
            ],
            [
             0.4,
             "#fde0ef"
            ],
            [
             0.5,
             "#f7f7f7"
            ],
            [
             0.6,
             "#e6f5d0"
            ],
            [
             0.7,
             "#b8e186"
            ],
            [
             0.8,
             "#7fbc41"
            ],
            [
             0.9,
             "#4d9221"
            ],
            [
             1,
             "#276419"
            ]
           ],
           "sequential": [
            [
             0,
             "#0d0887"
            ],
            [
             0.1111111111111111,
             "#46039f"
            ],
            [
             0.2222222222222222,
             "#7201a8"
            ],
            [
             0.3333333333333333,
             "#9c179e"
            ],
            [
             0.4444444444444444,
             "#bd3786"
            ],
            [
             0.5555555555555556,
             "#d8576b"
            ],
            [
             0.6666666666666666,
             "#ed7953"
            ],
            [
             0.7777777777777778,
             "#fb9f3a"
            ],
            [
             0.8888888888888888,
             "#fdca26"
            ],
            [
             1,
             "#f0f921"
            ]
           ],
           "sequentialminus": [
            [
             0,
             "#0d0887"
            ],
            [
             0.1111111111111111,
             "#46039f"
            ],
            [
             0.2222222222222222,
             "#7201a8"
            ],
            [
             0.3333333333333333,
             "#9c179e"
            ],
            [
             0.4444444444444444,
             "#bd3786"
            ],
            [
             0.5555555555555556,
             "#d8576b"
            ],
            [
             0.6666666666666666,
             "#ed7953"
            ],
            [
             0.7777777777777778,
             "#fb9f3a"
            ],
            [
             0.8888888888888888,
             "#fdca26"
            ],
            [
             1,
             "#f0f921"
            ]
           ]
          },
          "colorway": [
           "#636efa",
           "#EF553B",
           "#00cc96",
           "#ab63fa",
           "#FFA15A",
           "#19d3f3",
           "#FF6692",
           "#B6E880",
           "#FF97FF",
           "#FECB52"
          ],
          "font": {
           "color": "#2a3f5f"
          },
          "geo": {
           "bgcolor": "white",
           "lakecolor": "white",
           "landcolor": "#E5ECF6",
           "showlakes": true,
           "showland": true,
           "subunitcolor": "white"
          },
          "hoverlabel": {
           "align": "left"
          },
          "hovermode": "closest",
          "mapbox": {
           "style": "light"
          },
          "paper_bgcolor": "white",
          "plot_bgcolor": "#E5ECF6",
          "polar": {
           "angularaxis": {
            "gridcolor": "white",
            "linecolor": "white",
            "ticks": ""
           },
           "bgcolor": "#E5ECF6",
           "radialaxis": {
            "gridcolor": "white",
            "linecolor": "white",
            "ticks": ""
           }
          },
          "scene": {
           "xaxis": {
            "backgroundcolor": "#E5ECF6",
            "gridcolor": "white",
            "gridwidth": 2,
            "linecolor": "white",
            "showbackground": true,
            "ticks": "",
            "zerolinecolor": "white"
           },
           "yaxis": {
            "backgroundcolor": "#E5ECF6",
            "gridcolor": "white",
            "gridwidth": 2,
            "linecolor": "white",
            "showbackground": true,
            "ticks": "",
            "zerolinecolor": "white"
           },
           "zaxis": {
            "backgroundcolor": "#E5ECF6",
            "gridcolor": "white",
            "gridwidth": 2,
            "linecolor": "white",
            "showbackground": true,
            "ticks": "",
            "zerolinecolor": "white"
           }
          },
          "shapedefaults": {
           "line": {
            "color": "#2a3f5f"
           }
          },
          "ternary": {
           "aaxis": {
            "gridcolor": "white",
            "linecolor": "white",
            "ticks": ""
           },
           "baxis": {
            "gridcolor": "white",
            "linecolor": "white",
            "ticks": ""
           },
           "bgcolor": "#E5ECF6",
           "caxis": {
            "gridcolor": "white",
            "linecolor": "white",
            "ticks": ""
           }
          },
          "title": {
           "x": 0.05
          },
          "xaxis": {
           "automargin": true,
           "gridcolor": "white",
           "linecolor": "white",
           "ticks": "",
           "title": {
            "standoff": 15
           },
           "zerolinecolor": "white",
           "zerolinewidth": 2
          },
          "yaxis": {
           "automargin": true,
           "gridcolor": "white",
           "linecolor": "white",
           "ticks": "",
           "title": {
            "standoff": 15
           },
           "zerolinecolor": "white",
           "zerolinewidth": 2
          }
         }
        },
        "title": {
         "font": {
          "size": 20
         },
         "text": "Total Home Runs by Stadium with Elevation Mapping"
        },
        "xaxis": {
         "anchor": "y",
         "domain": [
          0,
          1
         ],
         "tickfont": {
          "size": 10
         },
         "title": {
          "text": "Home Runs"
         }
        },
        "yaxis": {
         "anchor": "x",
         "domain": [
          0,
          1
         ],
         "tickfont": {
          "size": 10
         },
         "title": {
          "text": "Stadium"
         }
        }
       }
      }
     },
     "metadata": {},
     "output_type": "display_data"
    }
   ],
   "source": [
    "# Sorting the table by home runs so it is easier to see stadiums with most home runs to the fewest\n",
    "\n",
    "home_runs_by_stadium = home_runs_by_stadium.sort_values('Total Home Runs', ascending=True)\n",
    "\n",
    "fig = px.bar(\n",
    "    home_runs_by_stadium,\n",
    "    x='Total Home Runs',\n",
    "    y='venue_name',\n",
    "    color='elevation_feet',  # Map elevation to color\n",
    "    color_continuous_scale='RdYlGn',  # Red to Green gradient\n",
    "    range_color=[0,1500], # Range is smaller than actual range to show more variation between stadiums\n",
    "    title='Total Home Runs by Stadium with Elevation Mapping',\n",
    "    labels={'venue_name': 'Stadium', 'Total Home Runs': 'Home Runs', 'elevation_feet': 'Elevation (ft)'},\n",
    "    height=600\n",
    ")\n",
    "\n",
    "# Update layout for better readability\n",
    "fig.update_layout(\n",
    "    title_font_size=20,\n",
    "    xaxis_tickfont_size=10,\n",
    "    yaxis_tickfont_size=10\n",
    ")\n",
    "\n",
    "# Display the interactive plot\n",
    "fig.show()"
   ]
  },
  {
   "cell_type": "markdown",
   "metadata": {},
   "source": [
    "From the plot we generated alone we weren't able to see that elevation had an effect on the number of home runs hit. While Coors Field did rank toward the top of home run chart, there were eight other parks that had higher home run totals all with varying elevation levels. Yankee stadium having the highest home run totals and being one of the lowest elevations in the MLB standing at only 55 feet above sea level.\n",
    "\n",
    "There are also stadiums with higher elevations like Truist Park in Atlanta that had the second highest elevation among regular MLB stadiums ranking toward the bottom of the group in terms of total home runs hit."
   ]
  },
  {
   "cell_type": "markdown",
   "metadata": {},
   "source": [
    "Next I want to see how some of the environmental factors can affect the performance of teams. To do that I want to create a heat map looking at the interaction between wind speed and precipitation vs total runs scored."
   ]
  },
  {
   "cell_type": "markdown",
   "metadata": {},
   "source": [
    "In order to create this visualization one change we will need to make is adding visiting team and home team runs together to look at total runs scored in each game."
   ]
  },
  {
   "cell_type": "code",
   "execution_count": 126,
   "metadata": {},
   "outputs": [
    {
     "data": {
      "text/html": [
       "<div>\n",
       "<style scoped>\n",
       "    .dataframe tbody tr th:only-of-type {\n",
       "        vertical-align: middle;\n",
       "    }\n",
       "\n",
       "    .dataframe tbody tr th {\n",
       "        vertical-align: top;\n",
       "    }\n",
       "\n",
       "    .dataframe thead th {\n",
       "        text-align: right;\n",
       "    }\n",
       "</style>\n",
       "<table border=\"1\" class=\"dataframe\">\n",
       "  <thead>\n",
       "    <tr style=\"text-align: right;\">\n",
       "      <th></th>\n",
       "      <th>visteam</th>\n",
       "      <th>hometeam</th>\n",
       "      <th>Park ID</th>\n",
       "      <th>date</th>\n",
       "      <th>daynight</th>\n",
       "      <th>precip</th>\n",
       "      <th>sky</th>\n",
       "      <th>temp</th>\n",
       "      <th>winddir</th>\n",
       "      <th>windspeed</th>\n",
       "      <th>vruns</th>\n",
       "      <th>hruns</th>\n",
       "      <th>total runs</th>\n",
       "    </tr>\n",
       "  </thead>\n",
       "  <tbody>\n",
       "    <tr>\n",
       "      <th>0</th>\n",
       "      <td>LAN</td>\n",
       "      <td>SDN</td>\n",
       "      <td>SEO01</td>\n",
       "      <td>20240320</td>\n",
       "      <td>night</td>\n",
       "      <td>none</td>\n",
       "      <td>dome</td>\n",
       "      <td>72</td>\n",
       "      <td>unknown</td>\n",
       "      <td>0</td>\n",
       "      <td>5</td>\n",
       "      <td>2</td>\n",
       "      <td>7</td>\n",
       "    </tr>\n",
       "    <tr>\n",
       "      <th>1</th>\n",
       "      <td>SDN</td>\n",
       "      <td>LAN</td>\n",
       "      <td>SEO01</td>\n",
       "      <td>20240321</td>\n",
       "      <td>night</td>\n",
       "      <td>none</td>\n",
       "      <td>dome</td>\n",
       "      <td>72</td>\n",
       "      <td>unknown</td>\n",
       "      <td>0</td>\n",
       "      <td>15</td>\n",
       "      <td>11</td>\n",
       "      <td>26</td>\n",
       "    </tr>\n",
       "    <tr>\n",
       "      <th>2</th>\n",
       "      <td>COL</td>\n",
       "      <td>ARI</td>\n",
       "      <td>PHO01</td>\n",
       "      <td>20240328</td>\n",
       "      <td>night</td>\n",
       "      <td>none</td>\n",
       "      <td>overcast</td>\n",
       "      <td>73</td>\n",
       "      <td>unknown</td>\n",
       "      <td>2</td>\n",
       "      <td>1</td>\n",
       "      <td>16</td>\n",
       "      <td>17</td>\n",
       "    </tr>\n",
       "    <tr>\n",
       "      <th>3</th>\n",
       "      <td>ANA</td>\n",
       "      <td>BAL</td>\n",
       "      <td>BAL12</td>\n",
       "      <td>20240328</td>\n",
       "      <td>day</td>\n",
       "      <td>none</td>\n",
       "      <td>cloudy</td>\n",
       "      <td>54</td>\n",
       "      <td>fromlf</td>\n",
       "      <td>9</td>\n",
       "      <td>3</td>\n",
       "      <td>11</td>\n",
       "      <td>14</td>\n",
       "    </tr>\n",
       "    <tr>\n",
       "      <th>4</th>\n",
       "      <td>DET</td>\n",
       "      <td>CHA</td>\n",
       "      <td>CHI12</td>\n",
       "      <td>20240328</td>\n",
       "      <td>day</td>\n",
       "      <td>none</td>\n",
       "      <td>cloudy</td>\n",
       "      <td>50</td>\n",
       "      <td>tolf</td>\n",
       "      <td>14</td>\n",
       "      <td>1</td>\n",
       "      <td>0</td>\n",
       "      <td>1</td>\n",
       "    </tr>\n",
       "  </tbody>\n",
       "</table>\n",
       "</div>"
      ],
      "text/plain": [
       "  visteam hometeam Park ID      date daynight precip       sky  temp  winddir  \\\n",
       "0     LAN      SDN   SEO01  20240320    night   none      dome    72  unknown   \n",
       "1     SDN      LAN   SEO01  20240321    night   none      dome    72  unknown   \n",
       "2     COL      ARI   PHO01  20240328    night   none  overcast    73  unknown   \n",
       "3     ANA      BAL   BAL12  20240328      day   none    cloudy    54   fromlf   \n",
       "4     DET      CHA   CHI12  20240328      day   none    cloudy    50     tolf   \n",
       "\n",
       "   windspeed  vruns  hruns  total runs  \n",
       "0          0      5      2           7  \n",
       "1          0     15     11          26  \n",
       "2          2      1     16          17  \n",
       "3          9      3     11          14  \n",
       "4         14      1      0           1  "
      ]
     },
     "execution_count": 126,
     "metadata": {},
     "output_type": "execute_result"
    }
   ],
   "source": [
    "weather_relevant['total runs'] = weather_relevant['vruns'] + weather_relevant['hruns']\n",
    "weather_relevant.head()"
   ]
  },
  {
   "cell_type": "markdown",
   "metadata": {},
   "source": [
    "Next we want to create bins for our wind speed data that will work as our x axis. The code below will create a new column called wind_bin that will categorize each game into its appropriate bin based on the wind speed observed for the game."
   ]
  },
  {
   "cell_type": "code",
   "execution_count": 127,
   "metadata": {},
   "outputs": [],
   "source": [
    "weather_relevant['wind_bin'] = pd.cut(weather_relevant['windspeed'], bins=np.arange(0, 26, 2), right=False)\n",
    "\n",
    "# Converts interval objects from pd.cut to strings that work with plotly\n",
    "weather_relevant['wind_bin'] = weather_relevant['wind_bin'].apply(lambda x: f\"{x.left}-{x.right} mph\")\n"
   ]
  },
  {
   "cell_type": "markdown",
   "metadata": {},
   "source": [
    "Now all that is left is to create the heatmap"
   ]
  },
  {
   "cell_type": "code",
   "execution_count": 128,
   "metadata": {},
   "outputs": [
    {
     "name": "stderr",
     "output_type": "stream",
     "text": [
      "/var/folders/pm/9vt22q8n1492gdz77qj4fnm00000gp/T/ipykernel_44536/1419905470.py:2: FutureWarning:\n",
      "\n",
      "The default of observed=False is deprecated and will be changed to True in a future version of pandas. Pass observed=False to retain current behavior or observed=True to adopt the future default and silence this warning.\n",
      "\n"
     ]
    },
    {
     "data": {
      "application/vnd.plotly.v1+json": {
       "config": {
        "plotlyServerURL": "https://plot.ly"
       },
       "data": [
        {
         "coloraxis": "coloraxis",
         "histfunc": "sum",
         "hovertemplate": "Wind Speed (mph)=%{x}<br>Precipitation=%{y}<br>sum of Average Runs=%{z}<extra></extra>",
         "name": "",
         "type": "histogram2d",
         "x": [
          "0-2 mph",
          "0-2 mph",
          "0-2 mph",
          "0-2 mph",
          "2-4 mph",
          "2-4 mph",
          "2-4 mph",
          "2-4 mph",
          "4-6 mph",
          "4-6 mph",
          "4-6 mph",
          "4-6 mph",
          "6-8 mph",
          "6-8 mph",
          "6-8 mph",
          "6-8 mph",
          "8-10 mph",
          "8-10 mph",
          "8-10 mph",
          "8-10 mph",
          "10-12 mph",
          "10-12 mph",
          "10-12 mph",
          "10-12 mph",
          "12-14 mph",
          "12-14 mph",
          "12-14 mph",
          "12-14 mph",
          "14-16 mph",
          "14-16 mph",
          "14-16 mph",
          "14-16 mph",
          "16-18 mph",
          "16-18 mph",
          "16-18 mph",
          "16-18 mph",
          "18-20 mph",
          "18-20 mph",
          "18-20 mph",
          "18-20 mph",
          "20-22 mph",
          "20-22 mph",
          "20-22 mph",
          "20-22 mph",
          "22-24 mph",
          "22-24 mph",
          "22-24 mph",
          "22-24 mph"
         ],
         "xaxis": "x",
         "xbingroup": "x",
         "y": [
          "drizzle",
          "none",
          "rain",
          "unknown",
          "drizzle",
          "none",
          "rain",
          "unknown",
          "drizzle",
          "none",
          "rain",
          "unknown",
          "drizzle",
          "none",
          "rain",
          "unknown",
          "drizzle",
          "none",
          "rain",
          "unknown",
          "drizzle",
          "none",
          "rain",
          "unknown",
          "drizzle",
          "none",
          "rain",
          "unknown",
          "drizzle",
          "none",
          "rain",
          "unknown",
          "drizzle",
          "none",
          "rain",
          "unknown",
          "drizzle",
          "none",
          "rain",
          "unknown",
          "drizzle",
          "none",
          "rain",
          "unknown",
          "drizzle",
          "none",
          "rain",
          "unknown"
         ],
         "yaxis": "y",
         "ybingroup": "y",
         "z": {
          "bdata": "AAAAAAAA+H8kKsg2BBQiQAAAAAAAAPh/AAAAAAAA+H8AAAAAAAAqQDn32QXEpiBAVVVVVVVVGUAAAAAAAAD4fwAAAAAAACNAi0z+Se0tIkAAAAAAAAAiQAAAAAAAAPh/AAAAAAAAI0CR2aJW48shQAAAAAAAACFAAAAAAAAA+H8AAAAAAAAWQKuqqqqqyiBAAAAAAAAAIkAAAAAAAAAUQAAAAAAAACJAn0n0nkn0IUAAAAAAAIAnQAAAAAAAAPh/AAAAAAAAIkCN3y71ZPwgQAAAAAAAABxAAAAAAAAA+H8AAAAAAAD4f4I8JchTgiBAAAAAAAAA+H8AAAAAAAD4fwAAAAAAAPh/4qTuy2MrIkAAAAAAAAD4fwAAAAAAAPh/AAAAAAAA+H+vobyG8hokQAAAAAAAAPh/AAAAAAAA+H8AAAAAAAD4f83MzMzMzBxAAAAAAAAA+H8AAAAAAAD4fwAAAAAAAPh/VVVVVVVVHUAAAAAAAAD4fwAAAAAAAPh/",
          "dtype": "f8"
         }
        }
       ],
       "layout": {
        "coloraxis": {
         "colorbar": {
          "title": {
           "text": "sum of Average Runs"
          }
         },
         "colorscale": [
          [
           0,
           "rgb(165,0,38)"
          ],
          [
           0.1,
           "rgb(215,48,39)"
          ],
          [
           0.2,
           "rgb(244,109,67)"
          ],
          [
           0.3,
           "rgb(253,174,97)"
          ],
          [
           0.4,
           "rgb(254,224,139)"
          ],
          [
           0.5,
           "rgb(255,255,191)"
          ],
          [
           0.6,
           "rgb(217,239,139)"
          ],
          [
           0.7,
           "rgb(166,217,106)"
          ],
          [
           0.8,
           "rgb(102,189,99)"
          ],
          [
           0.9,
           "rgb(26,152,80)"
          ],
          [
           1,
           "rgb(0,104,55)"
          ]
         ]
        },
        "legend": {
         "tracegroupgap": 0
        },
        "template": {
         "data": {
          "bar": [
           {
            "error_x": {
             "color": "#2a3f5f"
            },
            "error_y": {
             "color": "#2a3f5f"
            },
            "marker": {
             "line": {
              "color": "#E5ECF6",
              "width": 0.5
             },
             "pattern": {
              "fillmode": "overlay",
              "size": 10,
              "solidity": 0.2
             }
            },
            "type": "bar"
           }
          ],
          "barpolar": [
           {
            "marker": {
             "line": {
              "color": "#E5ECF6",
              "width": 0.5
             },
             "pattern": {
              "fillmode": "overlay",
              "size": 10,
              "solidity": 0.2
             }
            },
            "type": "barpolar"
           }
          ],
          "carpet": [
           {
            "aaxis": {
             "endlinecolor": "#2a3f5f",
             "gridcolor": "white",
             "linecolor": "white",
             "minorgridcolor": "white",
             "startlinecolor": "#2a3f5f"
            },
            "baxis": {
             "endlinecolor": "#2a3f5f",
             "gridcolor": "white",
             "linecolor": "white",
             "minorgridcolor": "white",
             "startlinecolor": "#2a3f5f"
            },
            "type": "carpet"
           }
          ],
          "choropleth": [
           {
            "colorbar": {
             "outlinewidth": 0,
             "ticks": ""
            },
            "type": "choropleth"
           }
          ],
          "contour": [
           {
            "colorbar": {
             "outlinewidth": 0,
             "ticks": ""
            },
            "colorscale": [
             [
              0,
              "#0d0887"
             ],
             [
              0.1111111111111111,
              "#46039f"
             ],
             [
              0.2222222222222222,
              "#7201a8"
             ],
             [
              0.3333333333333333,
              "#9c179e"
             ],
             [
              0.4444444444444444,
              "#bd3786"
             ],
             [
              0.5555555555555556,
              "#d8576b"
             ],
             [
              0.6666666666666666,
              "#ed7953"
             ],
             [
              0.7777777777777778,
              "#fb9f3a"
             ],
             [
              0.8888888888888888,
              "#fdca26"
             ],
             [
              1,
              "#f0f921"
             ]
            ],
            "type": "contour"
           }
          ],
          "contourcarpet": [
           {
            "colorbar": {
             "outlinewidth": 0,
             "ticks": ""
            },
            "type": "contourcarpet"
           }
          ],
          "heatmap": [
           {
            "colorbar": {
             "outlinewidth": 0,
             "ticks": ""
            },
            "colorscale": [
             [
              0,
              "#0d0887"
             ],
             [
              0.1111111111111111,
              "#46039f"
             ],
             [
              0.2222222222222222,
              "#7201a8"
             ],
             [
              0.3333333333333333,
              "#9c179e"
             ],
             [
              0.4444444444444444,
              "#bd3786"
             ],
             [
              0.5555555555555556,
              "#d8576b"
             ],
             [
              0.6666666666666666,
              "#ed7953"
             ],
             [
              0.7777777777777778,
              "#fb9f3a"
             ],
             [
              0.8888888888888888,
              "#fdca26"
             ],
             [
              1,
              "#f0f921"
             ]
            ],
            "type": "heatmap"
           }
          ],
          "histogram": [
           {
            "marker": {
             "pattern": {
              "fillmode": "overlay",
              "size": 10,
              "solidity": 0.2
             }
            },
            "type": "histogram"
           }
          ],
          "histogram2d": [
           {
            "colorbar": {
             "outlinewidth": 0,
             "ticks": ""
            },
            "colorscale": [
             [
              0,
              "#0d0887"
             ],
             [
              0.1111111111111111,
              "#46039f"
             ],
             [
              0.2222222222222222,
              "#7201a8"
             ],
             [
              0.3333333333333333,
              "#9c179e"
             ],
             [
              0.4444444444444444,
              "#bd3786"
             ],
             [
              0.5555555555555556,
              "#d8576b"
             ],
             [
              0.6666666666666666,
              "#ed7953"
             ],
             [
              0.7777777777777778,
              "#fb9f3a"
             ],
             [
              0.8888888888888888,
              "#fdca26"
             ],
             [
              1,
              "#f0f921"
             ]
            ],
            "type": "histogram2d"
           }
          ],
          "histogram2dcontour": [
           {
            "colorbar": {
             "outlinewidth": 0,
             "ticks": ""
            },
            "colorscale": [
             [
              0,
              "#0d0887"
             ],
             [
              0.1111111111111111,
              "#46039f"
             ],
             [
              0.2222222222222222,
              "#7201a8"
             ],
             [
              0.3333333333333333,
              "#9c179e"
             ],
             [
              0.4444444444444444,
              "#bd3786"
             ],
             [
              0.5555555555555556,
              "#d8576b"
             ],
             [
              0.6666666666666666,
              "#ed7953"
             ],
             [
              0.7777777777777778,
              "#fb9f3a"
             ],
             [
              0.8888888888888888,
              "#fdca26"
             ],
             [
              1,
              "#f0f921"
             ]
            ],
            "type": "histogram2dcontour"
           }
          ],
          "mesh3d": [
           {
            "colorbar": {
             "outlinewidth": 0,
             "ticks": ""
            },
            "type": "mesh3d"
           }
          ],
          "parcoords": [
           {
            "line": {
             "colorbar": {
              "outlinewidth": 0,
              "ticks": ""
             }
            },
            "type": "parcoords"
           }
          ],
          "pie": [
           {
            "automargin": true,
            "type": "pie"
           }
          ],
          "scatter": [
           {
            "fillpattern": {
             "fillmode": "overlay",
             "size": 10,
             "solidity": 0.2
            },
            "type": "scatter"
           }
          ],
          "scatter3d": [
           {
            "line": {
             "colorbar": {
              "outlinewidth": 0,
              "ticks": ""
             }
            },
            "marker": {
             "colorbar": {
              "outlinewidth": 0,
              "ticks": ""
             }
            },
            "type": "scatter3d"
           }
          ],
          "scattercarpet": [
           {
            "marker": {
             "colorbar": {
              "outlinewidth": 0,
              "ticks": ""
             }
            },
            "type": "scattercarpet"
           }
          ],
          "scattergeo": [
           {
            "marker": {
             "colorbar": {
              "outlinewidth": 0,
              "ticks": ""
             }
            },
            "type": "scattergeo"
           }
          ],
          "scattergl": [
           {
            "marker": {
             "colorbar": {
              "outlinewidth": 0,
              "ticks": ""
             }
            },
            "type": "scattergl"
           }
          ],
          "scattermap": [
           {
            "marker": {
             "colorbar": {
              "outlinewidth": 0,
              "ticks": ""
             }
            },
            "type": "scattermap"
           }
          ],
          "scattermapbox": [
           {
            "marker": {
             "colorbar": {
              "outlinewidth": 0,
              "ticks": ""
             }
            },
            "type": "scattermapbox"
           }
          ],
          "scatterpolar": [
           {
            "marker": {
             "colorbar": {
              "outlinewidth": 0,
              "ticks": ""
             }
            },
            "type": "scatterpolar"
           }
          ],
          "scatterpolargl": [
           {
            "marker": {
             "colorbar": {
              "outlinewidth": 0,
              "ticks": ""
             }
            },
            "type": "scatterpolargl"
           }
          ],
          "scatterternary": [
           {
            "marker": {
             "colorbar": {
              "outlinewidth": 0,
              "ticks": ""
             }
            },
            "type": "scatterternary"
           }
          ],
          "surface": [
           {
            "colorbar": {
             "outlinewidth": 0,
             "ticks": ""
            },
            "colorscale": [
             [
              0,
              "#0d0887"
             ],
             [
              0.1111111111111111,
              "#46039f"
             ],
             [
              0.2222222222222222,
              "#7201a8"
             ],
             [
              0.3333333333333333,
              "#9c179e"
             ],
             [
              0.4444444444444444,
              "#bd3786"
             ],
             [
              0.5555555555555556,
              "#d8576b"
             ],
             [
              0.6666666666666666,
              "#ed7953"
             ],
             [
              0.7777777777777778,
              "#fb9f3a"
             ],
             [
              0.8888888888888888,
              "#fdca26"
             ],
             [
              1,
              "#f0f921"
             ]
            ],
            "type": "surface"
           }
          ],
          "table": [
           {
            "cells": {
             "fill": {
              "color": "#EBF0F8"
             },
             "line": {
              "color": "white"
             }
            },
            "header": {
             "fill": {
              "color": "#C8D4E3"
             },
             "line": {
              "color": "white"
             }
            },
            "type": "table"
           }
          ]
         },
         "layout": {
          "annotationdefaults": {
           "arrowcolor": "#2a3f5f",
           "arrowhead": 0,
           "arrowwidth": 1
          },
          "autotypenumbers": "strict",
          "coloraxis": {
           "colorbar": {
            "outlinewidth": 0,
            "ticks": ""
           }
          },
          "colorscale": {
           "diverging": [
            [
             0,
             "#8e0152"
            ],
            [
             0.1,
             "#c51b7d"
            ],
            [
             0.2,
             "#de77ae"
            ],
            [
             0.3,
             "#f1b6da"
            ],
            [
             0.4,
             "#fde0ef"
            ],
            [
             0.5,
             "#f7f7f7"
            ],
            [
             0.6,
             "#e6f5d0"
            ],
            [
             0.7,
             "#b8e186"
            ],
            [
             0.8,
             "#7fbc41"
            ],
            [
             0.9,
             "#4d9221"
            ],
            [
             1,
             "#276419"
            ]
           ],
           "sequential": [
            [
             0,
             "#0d0887"
            ],
            [
             0.1111111111111111,
             "#46039f"
            ],
            [
             0.2222222222222222,
             "#7201a8"
            ],
            [
             0.3333333333333333,
             "#9c179e"
            ],
            [
             0.4444444444444444,
             "#bd3786"
            ],
            [
             0.5555555555555556,
             "#d8576b"
            ],
            [
             0.6666666666666666,
             "#ed7953"
            ],
            [
             0.7777777777777778,
             "#fb9f3a"
            ],
            [
             0.8888888888888888,
             "#fdca26"
            ],
            [
             1,
             "#f0f921"
            ]
           ],
           "sequentialminus": [
            [
             0,
             "#0d0887"
            ],
            [
             0.1111111111111111,
             "#46039f"
            ],
            [
             0.2222222222222222,
             "#7201a8"
            ],
            [
             0.3333333333333333,
             "#9c179e"
            ],
            [
             0.4444444444444444,
             "#bd3786"
            ],
            [
             0.5555555555555556,
             "#d8576b"
            ],
            [
             0.6666666666666666,
             "#ed7953"
            ],
            [
             0.7777777777777778,
             "#fb9f3a"
            ],
            [
             0.8888888888888888,
             "#fdca26"
            ],
            [
             1,
             "#f0f921"
            ]
           ]
          },
          "colorway": [
           "#636efa",
           "#EF553B",
           "#00cc96",
           "#ab63fa",
           "#FFA15A",
           "#19d3f3",
           "#FF6692",
           "#B6E880",
           "#FF97FF",
           "#FECB52"
          ],
          "font": {
           "color": "#2a3f5f"
          },
          "geo": {
           "bgcolor": "white",
           "lakecolor": "white",
           "landcolor": "#E5ECF6",
           "showlakes": true,
           "showland": true,
           "subunitcolor": "white"
          },
          "hoverlabel": {
           "align": "left"
          },
          "hovermode": "closest",
          "mapbox": {
           "style": "light"
          },
          "paper_bgcolor": "white",
          "plot_bgcolor": "#E5ECF6",
          "polar": {
           "angularaxis": {
            "gridcolor": "white",
            "linecolor": "white",
            "ticks": ""
           },
           "bgcolor": "#E5ECF6",
           "radialaxis": {
            "gridcolor": "white",
            "linecolor": "white",
            "ticks": ""
           }
          },
          "scene": {
           "xaxis": {
            "backgroundcolor": "#E5ECF6",
            "gridcolor": "white",
            "gridwidth": 2,
            "linecolor": "white",
            "showbackground": true,
            "ticks": "",
            "zerolinecolor": "white"
           },
           "yaxis": {
            "backgroundcolor": "#E5ECF6",
            "gridcolor": "white",
            "gridwidth": 2,
            "linecolor": "white",
            "showbackground": true,
            "ticks": "",
            "zerolinecolor": "white"
           },
           "zaxis": {
            "backgroundcolor": "#E5ECF6",
            "gridcolor": "white",
            "gridwidth": 2,
            "linecolor": "white",
            "showbackground": true,
            "ticks": "",
            "zerolinecolor": "white"
           }
          },
          "shapedefaults": {
           "line": {
            "color": "#2a3f5f"
           }
          },
          "ternary": {
           "aaxis": {
            "gridcolor": "white",
            "linecolor": "white",
            "ticks": ""
           },
           "baxis": {
            "gridcolor": "white",
            "linecolor": "white",
            "ticks": ""
           },
           "bgcolor": "#E5ECF6",
           "caxis": {
            "gridcolor": "white",
            "linecolor": "white",
            "ticks": ""
           }
          },
          "title": {
           "x": 0.05
          },
          "xaxis": {
           "automargin": true,
           "gridcolor": "white",
           "linecolor": "white",
           "ticks": "",
           "title": {
            "standoff": 15
           },
           "zerolinecolor": "white",
           "zerolinewidth": 2
          },
          "yaxis": {
           "automargin": true,
           "gridcolor": "white",
           "linecolor": "white",
           "ticks": "",
           "title": {
            "standoff": 15
           },
           "zerolinecolor": "white",
           "zerolinewidth": 2
          }
         }
        },
        "title": {
         "text": "Heatmap of Average Total Runs Scored by Wind Speed and Precipitation"
        },
        "xaxis": {
         "anchor": "y",
         "domain": [
          0,
          1
         ],
         "title": {
          "text": "Wind Speed (mph)"
         }
        },
        "yaxis": {
         "anchor": "x",
         "categoryarray": [
          "none",
          "drizzle",
          "rain",
          "unknown"
         ],
         "categoryorder": "array",
         "domain": [
          0,
          1
         ],
         "title": {
          "text": "Precipitation"
         }
        }
       }
      }
     },
     "metadata": {},
     "output_type": "display_data"
    }
   ],
   "source": [
    "# Calculating average total runs for each wind-precipitation combination\n",
    "heatmap_data = weather_relevant.groupby(['wind_bin', 'precip'])['total runs'].mean().reset_index()\n",
    "heatmap_data.columns = ['Wind Speed (mph)', 'Precipitation', 'Average Runs']\n",
    "\n",
    "# Creating an order for the precipitation that is most logical\n",
    "precip_order = ['unknown', 'rain', 'drizzle', 'none']\n",
    "\n",
    "# Creating the interactive heatmap\n",
    "fig = px.density_heatmap(\n",
    "    heatmap_data, \n",
    "    x='Wind Speed (mph)', \n",
    "    y='Precipitation', \n",
    "    z='Average Runs', \n",
    "    color_continuous_scale='RdYlGn',\n",
    "    title='Heatmap of Average Total Runs Scored by Wind Speed and Precipitation',\n",
    "    category_orders={\"Precipitation\": precip_order}\n",
    ")\n",
    "\n",
    "fig.show()"
   ]
  },
  {
   "cell_type": "markdown",
   "metadata": {},
   "source": [
    "The results from the heatmap do not seem to show any significant trend for wind speed or precipitation affecting runs scored. Looking at wind speed alone there does seem to be a slight decline in average runs scored once winds get above 20 mph. Baseball games are usally intended to be played in ideal conditions and games get cancelled on account of rain regularly, for that reason we do not have a lot of data where there is a combination of strong winds and rain."
   ]
  },
  {
   "cell_type": "markdown",
   "metadata": {},
   "source": [
    "**Here we are visualizng the difference between average runs scored per game between Day and Night games.**\n",
    "\n",
    "As you can see, there is a small but clear difference between the average homeruns scored during day games and night games. It seems that on average, teams are more likely to hit homeruns during night games. Also displayed is the difference between home teams and visiting teams, and it looks like there is an even wider difference for visiting teams than home teams, visiting teams being much more likely to hit more homeruns during night games than day games."
   ]
  },
  {
   "cell_type": "code",
   "execution_count": 129,
   "metadata": {},
   "outputs": [
    {
     "data": {
      "image/png": "[encoded data removed]",
      "text/plain": [
       "<Figure size 1200x400 with 2 Axes>"
      ]
     },
     "metadata": {},
     "output_type": "display_data"
    }
   ],
   "source": [
    "fig, ax = plt.subplots(1,2, figsize = (12,4))\n",
    "sns.barplot(data = weather_relevant, y = \"hruns\", x = \"daynight\", ax = ax[0])\n",
    "sns.barplot(data = weather_relevant, y = \"vruns\", x = \"daynight\", ax = ax[1])\n",
    "ax[0].set_ylim(4, 4.5)\n",
    "ax[1].set_ylim(4, 4.5)\n",
    "plt.suptitle(\"Difference Between Home/Away Runs Based On Day/Night 2024\", size = 18)\n",
    "ax[0].set_title(\"Home Runs\")\n",
    "ax[1].set_title(\"Visitor Runs\")\n",
    "plt.tight_layout()\n"
   ]
  },
  {
   "cell_type": "markdown",
   "metadata": {},
   "source": [
    "**Here we are visualizing the difference in the average total runs for different rainy weather conditions**\n",
    "\n",
    "We used the original dataset to find whether or not there was a visable difference between homeruns hit on rainy days vs. clear days, and we found that there was a clear difference. It appeared that there were on average more homeruns hit on rainy days than clear days. But we realized that could be due to there being far less rainy days in the dataset than clear days. So we decided to filter down to one stadium that we know has a much more even distribution of rainy and clear days, New York. And to our suprise, with this dataset there were on average more runs scored on clear days than rainy days. "
   ]
  },
  {
   "cell_type": "code",
   "execution_count": 130,
   "metadata": {},
   "outputs": [
    {
     "data": {
      "text/html": [
       "<div>\n",
       "<style scoped>\n",
       "    .dataframe tbody tr th:only-of-type {\n",
       "        vertical-align: middle;\n",
       "    }\n",
       "\n",
       "    .dataframe tbody tr th {\n",
       "        vertical-align: top;\n",
       "    }\n",
       "\n",
       "    .dataframe thead th {\n",
       "        text-align: right;\n",
       "    }\n",
       "</style>\n",
       "<table border=\"1\" class=\"dataframe\">\n",
       "  <thead>\n",
       "    <tr style=\"text-align: right;\">\n",
       "      <th></th>\n",
       "      <th>visteam</th>\n",
       "      <th>hometeam</th>\n",
       "      <th>Park ID</th>\n",
       "      <th>date</th>\n",
       "      <th>daynight</th>\n",
       "      <th>precip</th>\n",
       "      <th>sky</th>\n",
       "      <th>temp</th>\n",
       "      <th>winddir</th>\n",
       "      <th>windspeed</th>\n",
       "      <th>vruns</th>\n",
       "      <th>hruns</th>\n",
       "      <th>total runs</th>\n",
       "      <th>wind_bin</th>\n",
       "    </tr>\n",
       "  </thead>\n",
       "  <tbody>\n",
       "    <tr>\n",
       "      <th>109</th>\n",
       "      <td>TOR</td>\n",
       "      <td>NYA</td>\n",
       "      <td>NYC21</td>\n",
       "      <td>20240405</td>\n",
       "      <td>day</td>\n",
       "      <td>none</td>\n",
       "      <td>cloudy</td>\n",
       "      <td>46</td>\n",
       "      <td>tolf</td>\n",
       "      <td>16</td>\n",
       "      <td>3</td>\n",
       "      <td>0</td>\n",
       "      <td>3</td>\n",
       "      <td>16-18 mph</td>\n",
       "    </tr>\n",
       "    <tr>\n",
       "      <th>123</th>\n",
       "      <td>TOR</td>\n",
       "      <td>NYA</td>\n",
       "      <td>NYC21</td>\n",
       "      <td>20240406</td>\n",
       "      <td>night</td>\n",
       "      <td>none</td>\n",
       "      <td>cloudy</td>\n",
       "      <td>50</td>\n",
       "      <td>ltor</td>\n",
       "      <td>13</td>\n",
       "      <td>8</td>\n",
       "      <td>9</td>\n",
       "      <td>17</td>\n",
       "      <td>12-14 mph</td>\n",
       "    </tr>\n",
       "    <tr>\n",
       "      <th>137</th>\n",
       "      <td>TOR</td>\n",
       "      <td>NYA</td>\n",
       "      <td>NYC21</td>\n",
       "      <td>20240407</td>\n",
       "      <td>day</td>\n",
       "      <td>none</td>\n",
       "      <td>cloudy</td>\n",
       "      <td>52</td>\n",
       "      <td>fromlf</td>\n",
       "      <td>11</td>\n",
       "      <td>3</td>\n",
       "      <td>8</td>\n",
       "      <td>11</td>\n",
       "      <td>10-12 mph</td>\n",
       "    </tr>\n",
       "    <tr>\n",
       "      <th>149</th>\n",
       "      <td>MIA</td>\n",
       "      <td>NYA</td>\n",
       "      <td>NYC21</td>\n",
       "      <td>20240408</td>\n",
       "      <td>night</td>\n",
       "      <td>none</td>\n",
       "      <td>overcast</td>\n",
       "      <td>60</td>\n",
       "      <td>tolf</td>\n",
       "      <td>7</td>\n",
       "      <td>0</td>\n",
       "      <td>7</td>\n",
       "      <td>7</td>\n",
       "      <td>6-8 mph</td>\n",
       "    </tr>\n",
       "    <tr>\n",
       "      <th>164</th>\n",
       "      <td>MIA</td>\n",
       "      <td>NYA</td>\n",
       "      <td>NYC21</td>\n",
       "      <td>20240409</td>\n",
       "      <td>night</td>\n",
       "      <td>none</td>\n",
       "      <td>cloudy</td>\n",
       "      <td>65</td>\n",
       "      <td>rtol</td>\n",
       "      <td>8</td>\n",
       "      <td>2</td>\n",
       "      <td>3</td>\n",
       "      <td>5</td>\n",
       "      <td>8-10 mph</td>\n",
       "    </tr>\n",
       "  </tbody>\n",
       "</table>\n",
       "</div>"
      ],
      "text/plain": [
       "    visteam hometeam Park ID      date daynight precip       sky  temp  \\\n",
       "109     TOR      NYA   NYC21  20240405      day   none    cloudy    46   \n",
       "123     TOR      NYA   NYC21  20240406    night   none    cloudy    50   \n",
       "137     TOR      NYA   NYC21  20240407      day   none    cloudy    52   \n",
       "149     MIA      NYA   NYC21  20240408    night   none  overcast    60   \n",
       "164     MIA      NYA   NYC21  20240409    night   none    cloudy    65   \n",
       "\n",
       "    winddir  windspeed  vruns  hruns  total runs   wind_bin  \n",
       "109    tolf         16      3      0           3  16-18 mph  \n",
       "123    ltor         13      8      9          17  12-14 mph  \n",
       "137  fromlf         11      3      8          11  10-12 mph  \n",
       "149    tolf          7      0      7           7    6-8 mph  \n",
       "164    rtol          8      2      3           5   8-10 mph  "
      ]
     },
     "execution_count": 130,
     "metadata": {},
     "output_type": "execute_result"
    }
   ],
   "source": [
    "NY_percip = weather_relevant[weather_relevant['Park ID'] == \"NYC21\"]\n",
    "NY_percip.head()"
   ]
  },
  {
   "cell_type": "code",
   "execution_count": 131,
   "metadata": {},
   "outputs": [
    {
     "data": {
      "text/plain": [
       "Text(0.5, 1.0, 'Difference In Total Runs By Percipitation In New York')"
      ]
     },
     "execution_count": 131,
     "metadata": {},
     "output_type": "execute_result"
    },
    {
     "data": {
      "image/png": "[encoded data removed]",
      "text/plain": [
       "<Figure size 640x480 with 1 Axes>"
      ]
     },
     "metadata": {},
     "output_type": "display_data"
    }
   ],
   "source": [
    "sns.barplot(data = NY_percip, x = \"precip\", y = \"total runs\")\n",
    "plt.title(\"Difference In Total Runs By Percipitation In New York\")"
   ]
  },
  {
   "cell_type": "markdown",
   "metadata": {},
   "source": [
    "Next we are going to edit our data a little bit for our next visulization"
   ]
  },
  {
   "cell_type": "code",
   "execution_count": 132,
   "metadata": {},
   "outputs": [],
   "source": [
    "# Creating columns for totals between both teams for each game\n",
    "\n",
    "mlb['total_hits'] = mlb[\"HT Hits\"] + mlb['VT Hits']\n",
    "mlb['total_home_runs'] = mlb['VT Home Runs'] + mlb['HT Home Runs']\n",
    "mlb['total_runs'] = mlb['VT Score'] + mlb['HT Score']"
   ]
  },
  {
   "cell_type": "code",
   "execution_count": 133,
   "metadata": {},
   "outputs": [
    {
     "data": {
      "text/html": [
       "<div>\n",
       "<style scoped>\n",
       "    .dataframe tbody tr th:only-of-type {\n",
       "        vertical-align: middle;\n",
       "    }\n",
       "\n",
       "    .dataframe tbody tr th {\n",
       "        vertical-align: top;\n",
       "    }\n",
       "\n",
       "    .dataframe thead th {\n",
       "        text-align: right;\n",
       "    }\n",
       "</style>\n",
       "<table border=\"1\" class=\"dataframe\">\n",
       "  <thead>\n",
       "    <tr style=\"text-align: right;\">\n",
       "      <th></th>\n",
       "      <th>Park ID</th>\n",
       "      <th>Avg Runs</th>\n",
       "      <th>Avg Hits</th>\n",
       "      <th>Avg HRs</th>\n",
       "      <th>Game Number</th>\n",
       "    </tr>\n",
       "  </thead>\n",
       "  <tbody>\n",
       "    <tr>\n",
       "      <th>0</th>\n",
       "      <td>ANA01</td>\n",
       "      <td>9.306180</td>\n",
       "      <td>16.359551</td>\n",
       "      <td>2.606742</td>\n",
       "      <td>356</td>\n",
       "    </tr>\n",
       "    <tr>\n",
       "      <th>1</th>\n",
       "      <td>ARL03</td>\n",
       "      <td>9.127119</td>\n",
       "      <td>16.347458</td>\n",
       "      <td>2.536723</td>\n",
       "      <td>354</td>\n",
       "    </tr>\n",
       "    <tr>\n",
       "      <th>2</th>\n",
       "      <td>ATL03</td>\n",
       "      <td>9.192635</td>\n",
       "      <td>16.623229</td>\n",
       "      <td>2.546742</td>\n",
       "      <td>353</td>\n",
       "    </tr>\n",
       "    <tr>\n",
       "      <th>3</th>\n",
       "      <td>BAL12</td>\n",
       "      <td>9.148876</td>\n",
       "      <td>17.047753</td>\n",
       "      <td>2.500000</td>\n",
       "      <td>356</td>\n",
       "    </tr>\n",
       "    <tr>\n",
       "      <th>4</th>\n",
       "      <td>BIR01</td>\n",
       "      <td>11.000000</td>\n",
       "      <td>18.000000</td>\n",
       "      <td>2.000000</td>\n",
       "      <td>1</td>\n",
       "    </tr>\n",
       "  </tbody>\n",
       "</table>\n",
       "</div>"
      ],
      "text/plain": [
       "  Park ID   Avg Runs   Avg Hits   Avg HRs  Game Number\n",
       "0   ANA01   9.306180  16.359551  2.606742          356\n",
       "1   ARL03   9.127119  16.347458  2.536723          354\n",
       "2   ATL03   9.192635  16.623229  2.546742          353\n",
       "3   BAL12   9.148876  17.047753  2.500000          356\n",
       "4   BIR01  11.000000  18.000000  2.000000            1"
      ]
     },
     "execution_count": 133,
     "metadata": {},
     "output_type": "execute_result"
    }
   ],
   "source": [
    "# Finding the average amount for each category and adding the statistics to each park\n",
    "\n",
    "park_stats = mlb.groupby('Park ID').agg({\n",
    "    'total_runs': 'mean',\n",
    "    'total_hits': 'mean',\n",
    "    'total_home_runs': 'mean',\n",
    "    'Game Number': 'count'  # total games at each park\n",
    "}).rename(columns={\n",
    "    'total_runs': 'Avg Runs',\n",
    "    'total_hits': 'Avg Hits',\n",
    "    'total_home_runs': 'Avg HRs',\n",
    "    'game_id': 'Games Played'\n",
    "}).reset_index()\n",
    "\n",
    "park_stats.head()"
   ]
  },
  {
   "cell_type": "code",
   "execution_count": 134,
   "metadata": {},
   "outputs": [],
   "source": [
    "# Creating a threshold that categorizes parks as hitter or pitcher friendly\n",
    "\n",
    "conditions = [park_stats['Avg Runs'] > 9, park_stats['Avg Runs'] < 8]\n",
    "choices = ['Hitter-Friendly', 'Pitcher-Friendly']\n",
    "park_stats['Park Type'] = np.select(conditions, choices, default='Neutral')"
   ]
  },
  {
   "cell_type": "markdown",
   "metadata": {},
   "source": [
    "**Here we are visualizing the the number of stadiums that are either \"Hitter-Friendly\", or \"Pitcher-Friendly\"**\n",
    "\n",
    "A stadium is considered hitter friendly when a park has a high average runs per game compared to certain standards, in this case we are considering stadiums that average 9 runs or higher to be \"Hitter-Friendly\" and stadiums that average less than 8 runs per game to be more \"Pitcher-Friendly\".\n",
    "\n",
    "As you can see, according to our analysis \"Hitter-Friendly\" parks are much more common than \"Pitcher-Friendly\" parks. "
   ]
  },
  {
   "cell_type": "code",
   "execution_count": 135,
   "metadata": {},
   "outputs": [
    {
     "data": {
      "image/png": "[encoded data removed]",
      "text/plain": [
       "<Figure size 800x500 with 1 Axes>"
      ]
     },
     "metadata": {},
     "output_type": "display_data"
    }
   ],
   "source": [
    "# Count of each Park Type\n",
    "park_type_counts = park_stats['Park Type'].value_counts().reindex(['Hitter-Friendly', 'Neutral', 'Pitcher-Friendly'], fill_value=0)\n",
    "\n",
    "# Plot bar chart\n",
    "plt.figure(figsize=(8, 5))\n",
    "bars = plt.bar(park_type_counts.index, park_type_counts.values, color=['red', 'green', 'blue'])\n",
    "\n",
    "plt.title('Number of Parks by Type')\n",
    "plt.xlabel('Park Type')\n",
    "plt.ylabel('Number of Parks')\n",
    "plt.grid(axis='y', linestyle='--')\n",
    "plt.tight_layout()\n",
    "plt.show()"
   ]
  },
  {
   "cell_type": "markdown",
   "metadata": {},
   "source": [
    "## Summary"
   ]
  },
  {
   "cell_type": "markdown",
   "metadata": {},
   "source": [
    "In the beginning of this project we wanted to look into how different environmental factors like wind, precipitation, and elevation of stadiums impacted the results of MLB baseball games. The reasoning behind our research into this topic, besides a natural curiosity from our interest in the sport, was to see if we could draw any actionable conclusions regarding these external factors players are faced with when playing games.\n",
    "\n",
    "We addressed these questions and curiosities by looking at how many home runs were hit across all different stadiums. If our data supported the idea that it is easy to hit baseballs farther in higher altitude stadiums we would have seen those stadiums with higher elevations rank towards the top of home run rankings. Our results regarding this measurement came back inconclusive to say the least. Some of the higher elevation ball parks were in fact towards the bottom in terms of home runs hit. Another way that we looked into these environmental factors was looking at the correlation between runs scored against wind speed and precipitation levels. This analysis showed that these factors did not have that significant of an effect on the results of games as most average game scores did not vary greatly across the different groups of wind speed and precipitaion levels. One disctiction that could be drawn however was a decline in runs scored when wind speeds reached a level of 20 mph or greater.\n",
    "\n",
    "Some limitations with our assesment here is that there are many factors that could play into the home run totals across stadiums. The fact that a lot of these teams vary in skill is one factor. While the Colorado Rockies play in a ball park that is nearly 4000 feet higher in elevation than the next highest park they have been hamstrung by ownership whose primary focus is profit rather than constructing a winning team. This leads to owners not allowing teams to aquire more skilled players in order to reduce payrolls resulting in teams with less skill players. These less skilled players are less likely to in turn hit home runs. Another factor that could affect the data is every stadium has their own unique dimensions. One player could make contact with a ball in Yankee Stadium in New York on one day and have it just creep over the right field wall that stands only 314 feet away from home plate but if they happend to have that same exact swing and same exact contact in Wrigley Field in Chicago the ball would not even reach the warning track with their outfield wall at 353 feet away from home. Another limitation with our wind speed precipitation heatmap was that most baseball games are cancelled once the weather starts to turn bad so there is not a lot of data representation from games played in poorer weather conditions.\n",
    "\n",
    "In the future I would like to create a way that take all these factors into affect and then map them out to each stadium to see how likely a player is to hit a home run, looking at park dimensions, player skill level, along with the environmental factors we looked at in our analysis. A machine learning model would be perfect for this type of analysis and I'm looking forward to improving upon this project in the future using those types of methods to attain real actionable results.\n",
    "\n"
   ]
  },
  {
   "cell_type": "markdown",
   "metadata": {},
   "source": []
  }
 ],
 "metadata": {
  "colab": {
   "provenance": []
  },
  "kernelspec": {
   "display_name": "Python 3",
   "language": "python",
   "name": "python3"
  },
  "language_info": {
   "codemirror_mode": {
    "name": "ipython",
    "version": 3
   },
   "file_extension": ".py",
   "mimetype": "text/x-python",
   "name": "python",
   "nbconvert_exporter": "python",
   "pygments_lexer": "ipython3",
   "version": "3.12.1"
  }
 },
 "nbformat": 4,
 "nbformat_minor": 1
}
